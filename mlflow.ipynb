{
 "cells": [
  {
   "cell_type": "code",
   "execution_count": 1,
   "metadata": {},
   "outputs": [],
   "source": [
    "import mlflow\n",
    "from mlflow.tracking import MlflowClient"
   ]
  },
  {
   "cell_type": "code",
   "execution_count": 2,
   "metadata": {},
   "outputs": [],
   "source": [
    "import torch\n",
    "import numpy as np\n",
    "\n",
    "import pprint"
   ]
  },
  {
   "cell_type": "markdown",
   "metadata": {},
   "source": [
    "## 创建mlruns文件夹和mlrun.db"
   ]
  },
  {
   "cell_type": "markdown",
   "metadata": {},
   "source": [
    "mlruns文件夹对应储存artifacts，mlrun.db则存储对应tracking和registry相关的内容。"
   ]
  },
  {
   "cell_type": "code",
   "execution_count": 3,
   "metadata": {},
   "outputs": [],
   "source": [
    "ROOT_PATH = '/data16/defeng'"
   ]
  },
  {
   "cell_type": "code",
   "execution_count": 4,
   "metadata": {},
   "outputs": [
    {
     "name": "stdout",
     "output_type": "stream",
     "text": [
      "deleting... Done!\n"
     ]
    }
   ],
   "source": [
    "# step1\n",
    "import sqlite3\n",
    "import os\n",
    "\n",
    "if os.path.exists(os.path.join(ROOT_PATH, 'mlruns')):\n",
    "    import shutil\n",
    "    shutil.rmtree(os.path.join(ROOT_PATH, 'mlruns'), ignore_errors=True)\n",
    "    print(\"deleting... Done!\")\n",
    "    \n",
    "os.mkdir(os.path.join(ROOT_PATH, 'mlruns'))\n",
    "\n",
    "conn = sqlite3.connect(os.path.join(ROOT_PATH, 'mlruns.db'))\n",
    "conn.close()"
   ]
  },
  {
   "cell_type": "markdown",
   "metadata": {},
   "source": [
    "## 启动mlflow server服务"
   ]
  },
  {
   "cell_type": "code",
   "execution_count": 16,
   "metadata": {},
   "outputs": [],
   "source": [
    "# step2\n",
    "# bash kill_proc_by_name.sh mlflow 首先杀掉之前的服务\n",
    "# bash Mlflow.sh"
   ]
  },
  {
   "cell_type": "markdown",
   "metadata": {},
   "source": [
    "**然后执行bash Mlflow.sh**"
   ]
  },
  {
   "cell_type": "markdown",
   "metadata": {},
   "source": [
    "通过这个下面的命令，可以查看使用后的mlruns.db内含有的表情况。<br>\n",
    "这里为了方便，toggle了下面这个cell的输出。"
   ]
  },
  {
   "cell_type": "code",
   "execution_count": 6,
   "metadata": {
    "scrolled": true
   },
   "outputs": [
    {
     "name": "stdout",
     "output_type": "stream",
     "text": [
      "[('alembic_version',),\n",
      " ('experiment_tags',),\n",
      " ('experiments',),\n",
      " ('latest_metrics',),\n",
      " ('metrics',),\n",
      " ('model_version_tags',),\n",
      " ('model_versions',),\n",
      " ('params',),\n",
      " ('registered_model_tags',),\n",
      " ('registered_models',),\n",
      " ('runs',),\n",
      " ('tags',)]\n"
     ]
    }
   ],
   "source": [
    "conn = sqlite3.connect(os.path.join(ROOT_PATH, 'mlruns/mlruns.db'))\n",
    "\n",
    "cur = conn.cursor()\n",
    "cur.execute(\"select name from sqlite_master where type='table' order by name\")\n",
    "\n",
    "import pprint\n",
    "pprint.pprint(cur.fetchall())\n",
    "\n",
    "conn.close()"
   ]
  },
  {
   "cell_type": "code",
   "execution_count": 24,
   "metadata": {},
   "outputs": [
    {
     "name": "stdout",
     "output_type": "stream",
     "text": [
      "[(0, 'Default', 'file:///data/defeng/mlruns/0', 'active'),\n",
      " (1, 'test3', 'file:///data/defeng/mlruns/1', 'active')]\n"
     ]
    }
   ],
   "source": [
    "conn = sqlite3.connect(os.path.join(ROOT_PATH, 'mlruns/mlruns.db'))\n",
    "\n",
    "cur = conn.cursor()\n",
    "cur.execute(\"select * from experiments\")\n",
    "#cur.execute(\"select * from runs\")\n",
    "# 总之，在现在的代码下(client)，在notebooks/~中的mlruns的exp和run中都找不到meta.yaml了，因为meta.yaml的内容已经放到db中了！\n",
    "\n",
    "pprint.pprint(cur.fetchall())\n",
    "\n",
    "conn.close()"
   ]
  },
  {
   "cell_type": "markdown",
   "metadata": {},
   "source": [
    "## mlflow.client"
   ]
  },
  {
   "cell_type": "markdown",
   "metadata": {},
   "source": [
    "以下所有API的用法来源于：https://mlflow.org/docs/latest/python_api/mlflow.tracking.html"
   ]
  },
  {
   "cell_type": "markdown",
   "metadata": {},
   "source": [
    "### 创建client"
   ]
  },
  {
   "cell_type": "code",
   "execution_count": 17,
   "metadata": {},
   "outputs": [],
   "source": [
    "#step3(接着正常创建exp和run即可！)\n",
    "# ****reference: https://mlflow.org/docs/latest/python_api/mlflow.tracking.html#mlflow.tracking.MlflowClient\n",
    "# Create an experiment with a name that is unique and case sensitive.\n",
    "client = MlflowClient(tracking_uri='http://localhost:10500')\n",
    "# the registry will automatically set to the same as tracking_uri\n",
    "# old: tracking_uri='file:///data/defeng/mlruns/',registry_uri='sqlite:////data/defeng/mlruns/registry.db'\n",
    "# tracking_uri='sqlite:////data/defeng/mlruns/mlruns.db',registry_uri='sqlite:////data/defeng/mlruns/mlruns.db'"
   ]
  },
  {
   "cell_type": "markdown",
   "metadata": {},
   "source": [
    "只需要设置tracking_uri即可，然后registry_uri会**自动设置为和他相同**。<br>\n",
    "**之所以设置这里的uri为localhost，是为了让mlflow的client API关联到已经启动的mlflow server服务**<br>\n",
    "这样，实际使用的tracking and registry uri就会自动改为**同一个值**，即和mlflow server对应的baeckend-store-uri！<br>\n",
    "而artifact uri也会改为mlflow server对应的**default-artifact-uri**。\n",
    "**所以在python代码这里，如果需要设置uri，一般都是localhost，毕竟你可视化的主体是mlflow server** <br><br>\n",
    "\n",
    "解决方法来源：https://github.com/mlflow/mlflow/issues/1815#issuecomment-531640930"
   ]
  },
  {
   "cell_type": "code",
   "execution_count": 22,
   "metadata": {},
   "outputs": [
    {
     "data": {
      "text/plain": [
       "'938355ac84084d33898f1db597f11630'"
      ]
     },
     "execution_count": 22,
     "metadata": {},
     "output_type": "execute_result"
    }
   ],
   "source": [
    "client.list_run_infos(0)[0].run_id"
   ]
  },
  {
   "cell_type": "markdown",
   "metadata": {},
   "source": [
    "### 创建experiment"
   ]
  },
  {
   "cell_type": "code",
   "execution_count": 18,
   "metadata": {},
   "outputs": [
    {
     "name": "stdout",
     "output_type": "stream",
     "text": [
      "Name: test2\n",
      "Experiment_id: 2\n",
      "Artifact Location: file:///data/defeng/mlruns/2\n"
     ]
    }
   ],
   "source": [
    "experiment_id = client.create_experiment(name=\"test2\")\n",
    "# no need to set: ,artifact_location='file:///data/defeng/mlruns/'\n",
    "#client.set_experiment_tag(experiment_id, \"preparation\", \"incremental_learning\")\n",
    "\n",
    "# Fetch experiment metadata information\n",
    "experiment = client.get_experiment(experiment_id)\n",
    "'''\n",
    "    or use get_experiment_by_name\n",
    "    experiment = client.get_experiment_by_name('test')\n",
    "'''\n",
    "print(\"Name: {}\".format(experiment.name))\n",
    "print(\"Experiment_id: {}\".format(experiment.experiment_id))\n",
    "print(\"Artifact Location: {}\".format(experiment.artifact_location)) # actual path: experiment.artifact_location/atifacts\n",
    "# print(\"Tags: {}\".format(experiment.tags))\n",
    "# print(\"Lifecycle_stage: {}\".format(experiment.lifecycle_stage))"
   ]
  },
  {
   "cell_type": "code",
   "execution_count": 7,
   "metadata": {
    "scrolled": true
   },
   "outputs": [
    {
     "data": {
      "text/plain": [
       "'file:///data/defeng/mlruns/1'"
      ]
     },
     "execution_count": 7,
     "metadata": {},
     "output_type": "execute_result"
    }
   ],
   "source": [
    "experiment.artifact_location"
   ]
  },
  {
   "cell_type": "markdown",
   "metadata": {},
   "source": [
    "### 创建run"
   ]
  },
  {
   "cell_type": "code",
   "execution_count": 8,
   "metadata": {
    "scrolled": true
   },
   "outputs": [
    {
     "name": "stdout",
     "output_type": "stream",
     "text": [
      "Run tags: {}\n",
      "Experiment id: 1\n",
      "Run id: 1c1c953e75dc4081adda72120f0a9733\n",
      "lifecycle_stage: active\n",
      "status: RUNNING\n"
     ]
    }
   ],
   "source": [
    "# ****reference: https://mlflow.org/docs/latest/python_api/mlflow.tracking.html#mlflow.tracking.MlflowClient.create_run\n",
    "run = client.create_run(experiment_id)\n",
    "# no need to add param:start_time in func create_run\n",
    "# it will cause error time and without this param, the time is correct!\n",
    "\n",
    "print(\"Run tags: {}\".format(run.data.tags))\n",
    "print(\"Experiment id: {}\".format(run.info.experiment_id))\n",
    "print(\"Run id: {}\".format(run.info.run_id))\n",
    "print(\"lifecycle_stage: {}\".format(run.info.lifecycle_stage))\n",
    "print(\"status: {}\".format(run.info.status))"
   ]
  },
  {
   "cell_type": "code",
   "execution_count": 10,
   "metadata": {},
   "outputs": [
    {
     "name": "stdout",
     "output_type": "stream",
     "text": [
      "<RunInfo: artifact_uri='file:///data/defeng/mlruns/1/1c1c953e75dc4081adda72120f0a9733/artifacts', end_time=None, experiment_id='1', lifecycle_stage='active', run_id='1c1c953e75dc4081adda72120f0a9733', run_uuid='1c1c953e75dc4081adda72120f0a9733', start_time=1626946369631, status='RUNNING', user_id='unknown'>\n"
     ]
    }
   ],
   "source": [
    "pprint.pprint(run.info)"
   ]
  },
  {
   "cell_type": "code",
   "execution_count": 38,
   "metadata": {},
   "outputs": [
    {
     "name": "stdout",
     "output_type": "stream",
     "text": [
      "RUNNING\n",
      "FINISHED\n"
     ]
    }
   ],
   "source": [
    "print(run.info.status)\n",
    "client.set_terminated(run.info.run_id)\n",
    "run = client.get_run(run.info.run_id)\n",
    "print(run.info.status)\n",
    "# run对象已经发生改变，所以需要重新get_run"
   ]
  },
  {
   "cell_type": "markdown",
   "metadata": {},
   "source": [
    "### 模拟训练代码执行"
   ]
  },
  {
   "cell_type": "markdown",
   "metadata": {},
   "source": [
    "下面的代码模拟了训练代码执行过程一般需要用到的数据记录函数log_XX"
   ]
  },
  {
   "cell_type": "code",
   "execution_count": 11,
   "metadata": {},
   "outputs": [
    {
     "name": "stdout",
     "output_type": "stream",
     "text": [
      "deleting... Done!\n"
     ]
    }
   ],
   "source": [
    "if os.path.exists(os.path.join(ROOT_PATH, 'test_dir')):\n",
    "    import shutil\n",
    "    shutil.rmtree(os.path.join(ROOT_PATH, 'test_dir'), ignore_errors=True)\n",
    "    print(\"deleting... Done!\")\n",
    "    \n",
    "os.mkdir(os.path.join(ROOT_PATH, 'test_dir'))"
   ]
  },
  {
   "cell_type": "code",
   "execution_count": 12,
   "metadata": {
    "scrolled": true
   },
   "outputs": [],
   "source": [
    "# ****reference: https://mlflow.org/docs/latest/python_api/mlflow.tracking.html#mlflow.tracking.MlflowClient\n",
    "client.log_param(run.info.run_id,'name','defeng')\n",
    "client.log_artifact(run.info.run_id, os.path.join(ROOT_PATH, 'jupyter.sh'))\n",
    "client.log_artifacts(run.info.run_id, os.path.join(ROOT_PATH, 'test_dir'))"
   ]
  },
  {
   "cell_type": "code",
   "execution_count": 13,
   "metadata": {},
   "outputs": [
    {
     "data": {
      "text/plain": [
       "'\\n    if want to log mulitple items at a time:\\n        # []中的内容对应log_metric, log_param等函数的参数。\\n        metrics = [Metric(\\'m\\', 1.5, timestamp, 1)]\\n        params = [Param(\"p\", \\'p\\')]\\n        tags = [RunTag(\"t\", \"t\")]\\n\\n        # Log entities, terminate the run, and fetch run status\\n        client.log_batch(run.info.run_id, metrics=metrics, params=params, tags=tags)\\n'"
      ]
     },
     "execution_count": 13,
     "metadata": {},
     "output_type": "execute_result"
    }
   ],
   "source": [
    "\n",
    "'''\n",
    "    if want to log mulitple items at a time:\n",
    "        # []中的内容对应log_metric, log_param等函数的参数。\n",
    "        metrics = [Metric('m', 1.5, timestamp, 1)]\n",
    "        params = [Param(\"p\", 'p')]\n",
    "        tags = [RunTag(\"t\", \"t\")]\n",
    "\n",
    "        # Log entities, terminate the run, and fetch run status\n",
    "        client.log_batch(run.info.run_id, metrics=metrics, params=params, tags=tags)\n",
    "'''\n",
    "\n",
    "# log_dict, log_figure, log_image, log_text等函数自己见reference。\n",
    "# log_metric见下一个cell。"
   ]
  },
  {
   "cell_type": "code",
   "execution_count": 13,
   "metadata": {},
   "outputs": [],
   "source": [
    "data = np.random.random(100)\n",
    "\n",
    "for idx,item in enumerate(data):\n",
    "    #print(type(item))\n",
    "    #print(idx)\n",
    "    client.log_metric(run.info.run_id,'data',item,step=idx)"
   ]
  },
  {
   "cell_type": "code",
   "execution_count": 14,
   "metadata": {
    "scrolled": true
   },
   "outputs": [
    {
     "data": {
      "text/plain": [
       "[<Metric: key='data', step=0, timestamp=1626946418758, value=0.4258597857536043>,\n",
       " <Metric: key='data', step=1, timestamp=1626946418795, value=0.2926135076095694>,\n",
       " <Metric: key='data', step=2, timestamp=1626946419132, value=0.9019204595704268>,\n",
       " <Metric: key='data', step=3, timestamp=1626946419157, value=0.5791149667847949>,\n",
       " <Metric: key='data', step=4, timestamp=1626946419181, value=0.32800999015404064>]"
      ]
     },
     "execution_count": 14,
     "metadata": {},
     "output_type": "execute_result"
    }
   ],
   "source": [
    "client.get_metric_history(run.info.run_id,key='data')[:5]"
   ]
  },
  {
   "cell_type": "markdown",
   "metadata": {},
   "source": [
    "### 创建registered_model"
   ]
  },
  {
   "cell_type": "code",
   "execution_count": 11,
   "metadata": {
    "scrolled": true
   },
   "outputs": [
    {
     "data": {
      "text/plain": [
       "<RegisteredModel: creation_timestamp=1626753578987, description=None, last_updated_timestamp=1626753578987, latest_versions=[], name='defeng', tags={}>"
      ]
     },
     "execution_count": 11,
     "metadata": {},
     "output_type": "execute_result"
    }
   ],
   "source": [
    "client.create_registered_model(name='defeng')"
   ]
  },
  {
   "cell_type": "markdown",
   "metadata": {},
   "source": [
    "然后即可在127.0.0.1:5000中看到执行结果"
   ]
  },
  {
   "cell_type": "markdown",
   "metadata": {},
   "source": [
    "### 创建model_version"
   ]
  },
  {
   "cell_type": "markdown",
   "metadata": {},
   "source": [
    "基于各个创建的registered_model来创建model_version"
   ]
  },
  {
   "cell_type": "code",
   "execution_count": 12,
   "metadata": {
    "scrolled": true
   },
   "outputs": [
    {
     "name": "stderr",
     "output_type": "stream",
     "text": [
      "2021/07/20 12:00:12 INFO mlflow.tracking._model_registry.client: Waiting up to 300 seconds for model version to finish creation.                     Model name: defeng, version 1\n"
     ]
    },
    {
     "data": {
      "text/plain": [
       "<ModelVersion: creation_timestamp=1626753612371, current_stage='None', description=None, last_updated_timestamp=1626753612371, name='defeng', run_id='83c14eabe1514b41b7140383124aa4b3', run_link=None, source='~/temp', status='READY', status_message=None, tags={}, user_id=None, version=1>"
      ]
     },
     "execution_count": 12,
     "metadata": {},
     "output_type": "execute_result"
    }
   ],
   "source": [
    "client.create_model_version(name='defeng',source='~/temp',run_id=run.info.run_id)"
   ]
  },
  {
   "cell_type": "markdown",
   "metadata": {},
   "source": [
    "然后即可在127.0.0.1:5000中看到执行结果"
   ]
  },
  {
   "cell_type": "markdown",
   "metadata": {},
   "source": [
    "### 更多有关client的API"
   ]
  },
  {
   "cell_type": "markdown",
   "metadata": {},
   "source": [
    "见OneNote笔记：《client API》  <br> <br>\n",
    "或者链接：https://mlflow.org/docs/latest/python_api/mlflow.tracking.html"
   ]
  },
  {
   "cell_type": "markdown",
   "metadata": {},
   "source": [
    "============================================================================================="
   ]
  },
  {
   "cell_type": "markdown",
   "metadata": {},
   "source": [
    "## deprecated code"
   ]
  },
  {
   "cell_type": "markdown",
   "metadata": {},
   "source": [
    "经过测试✔，不需要执行下面设置tracking_uri cell(cell 内容✔)的内容，也能实现client的tracking，registry和artifacts存到期望的地方。<br>\n"
   ]
  },
  {
   "cell_type": "code",
   "execution_count": 5,
   "metadata": {},
   "outputs": [],
   "source": [
    "mlflow.tracking.set_tracking_uri('http://localhost:10500') # 'sqlite:////data/defeng/mlruns/registry.db'\n",
    "#mlflow.tracking.set_registry_uri('sqlite:////data/defeng/mlruns/registry.db')"
   ]
  },
  {
   "cell_type": "code",
   "execution_count": 25,
   "metadata": {},
   "outputs": [
    {
     "name": "stdout",
     "output_type": "stream",
     "text": [
      "Current registry uri: http://localhost:10500\n",
      "Current tracking uri: http://localhost:10500\n"
     ]
    }
   ],
   "source": [
    "mr_uri = mlflow.get_registry_uri()\n",
    "print(\"Current registry uri: {}\".format(mr_uri))\n",
    "tracking_uri = mlflow.get_tracking_uri()\n",
    "print(\"Current tracking uri: {}\".format(tracking_uri))"
   ]
  },
  {
   "cell_type": "code",
   "execution_count": 7,
   "metadata": {},
   "outputs": [
    {
     "data": {
      "text/plain": [
       "'file:///data/defeng/mlruns/0/7431ea75988440b3840841d536eda969/artifacts'"
      ]
     },
     "execution_count": 7,
     "metadata": {},
     "output_type": "execute_result"
    }
   ],
   "source": [
    "mlflow.get_artifact_uri()"
   ]
  },
  {
   "cell_type": "code",
   "execution_count": 15,
   "metadata": {},
   "outputs": [
    {
     "name": "stdout",
     "output_type": "stream",
     "text": [
      "<mlflow.tracking.client.MlflowClient object at 0x7fe55353a190>\n"
     ]
    }
   ],
   "source": [
    "pprint.pprint(client)"
   ]
  },
  {
   "cell_type": "code",
   "execution_count": 7,
   "metadata": {
    "scrolled": true
   },
   "outputs": [
    {
     "data": {
      "text/plain": [
       "1626787985841"
      ]
     },
     "execution_count": 7,
     "metadata": {},
     "output_type": "execute_result"
    }
   ],
   "source": [
    "run.info.start_time"
   ]
  },
  {
   "cell_type": "code",
   "execution_count": 8,
   "metadata": {
    "scrolled": true
   },
   "outputs": [
    {
     "ename": "AttributeError",
     "evalue": "'RunInfo' object has no attribute 'run_link'",
     "output_type": "error",
     "traceback": [
      "\u001b[0;31m---------------------------------------------------------------------------\u001b[0m",
      "\u001b[0;31mAttributeError\u001b[0m                            Traceback (most recent call last)",
      "\u001b[0;32m<ipython-input-8-557e1410a3f5>\u001b[0m in \u001b[0;36m<module>\u001b[0;34m\u001b[0m\n\u001b[0;32m----> 1\u001b[0;31m \u001b[0mrun\u001b[0m\u001b[0;34m.\u001b[0m\u001b[0minfo\u001b[0m\u001b[0;34m.\u001b[0m\u001b[0mrun_link\u001b[0m\u001b[0;34m\u001b[0m\u001b[0;34m\u001b[0m\u001b[0m\n\u001b[0m",
      "\u001b[0;31mAttributeError\u001b[0m: 'RunInfo' object has no attribute 'run_link'"
     ]
    }
   ],
   "source": [
    "run.info.run_link"
   ]
  },
  {
   "cell_type": "code",
   "execution_count": 44,
   "metadata": {
    "scrolled": true
   },
   "outputs": [
    {
     "ename": "AttributeError",
     "evalue": "'MlflowClient' object has no attribute 'start_run'",
     "output_type": "error",
     "traceback": [
      "\u001b[0;31m---------------------------------------------------------------------------\u001b[0m",
      "\u001b[0;31mAttributeError\u001b[0m                            Traceback (most recent call last)",
      "\u001b[0;32m<ipython-input-44-edc07b49a88e>\u001b[0m in \u001b[0;36m<module>\u001b[0;34m\u001b[0m\n\u001b[0;32m----> 1\u001b[0;31m \u001b[0;32mwith\u001b[0m \u001b[0mclient\u001b[0m\u001b[0;34m.\u001b[0m\u001b[0mstart_run\u001b[0m\u001b[0;34m(\u001b[0m\u001b[0;34m)\u001b[0m \u001b[0;32mas\u001b[0m \u001b[0mrun\u001b[0m\u001b[0;34m:\u001b[0m\u001b[0;34m\u001b[0m\u001b[0;34m\u001b[0m\u001b[0m\n\u001b[0m\u001b[1;32m      2\u001b[0m     \u001b[0;31m#mlflow.log_artifact('../requirements.txt')\u001b[0m\u001b[0;34m\u001b[0m\u001b[0;34m\u001b[0m\u001b[0;34m\u001b[0m\u001b[0m\n\u001b[1;32m      3\u001b[0m     \u001b[0;31m#mlflow.log_param(\"child\", \"yes\")\u001b[0m\u001b[0;34m\u001b[0m\u001b[0;34m\u001b[0m\u001b[0;34m\u001b[0m\u001b[0m\n\u001b[1;32m      4\u001b[0m \u001b[0;34m\u001b[0m\u001b[0m\n\u001b[1;32m      5\u001b[0m     \u001b[0mrun1\u001b[0m \u001b[0;34m=\u001b[0m \u001b[0mmlflow\u001b[0m\u001b[0;34m.\u001b[0m\u001b[0mactive_run\u001b[0m\u001b[0;34m(\u001b[0m\u001b[0;34m)\u001b[0m\u001b[0;34m\u001b[0m\u001b[0;34m\u001b[0m\u001b[0m\n",
      "\u001b[0;31mAttributeError\u001b[0m: 'MlflowClient' object has no attribute 'start_run'"
     ]
    }
   ],
   "source": [
    "# not working!\n",
    "with client.start_run() as run:\n",
    "    #mlflow.log_artifact('../requirements.txt')\n",
    "    #mlflow.log_param(\"child\", \"yes\")\n",
    "    \n",
    "    run1 = mlflow.active_run()\n",
    "    print(run1.info.run_id)\n",
    "    \n",
    "    client.log_param(run.info.run_id,\"name\",\"defeng\")"
   ]
  },
  {
   "cell_type": "code",
   "execution_count": 3,
   "metadata": {},
   "outputs": [],
   "source": [
    "k = torch.tensor(3.0,dtype=torch.float32)\n",
    "b = torch.tensor(5.0,dtype=torch.float32)"
   ]
  },
  {
   "cell_type": "code",
   "execution_count": 1,
   "metadata": {},
   "outputs": [
    {
     "data": {
      "text/plain": [
       "844683"
      ]
     },
     "execution_count": 1,
     "metadata": {},
     "output_type": "execute_result"
    }
   ],
   "source": [
    "from datetime import datetime\n",
    "dt = datetime.now()\n",
    "dt.microsecond"
   ]
  },
  {
   "cell_type": "code",
   "execution_count": 3,
   "metadata": {},
   "outputs": [
    {
     "data": {
      "text/plain": [
       "1626614241.9734983"
      ]
     },
     "execution_count": 3,
     "metadata": {},
     "output_type": "execute_result"
    }
   ],
   "source": [
    "import time \n",
    "time.time()"
   ]
  },
  {
   "cell_type": "code",
   "execution_count": 10,
   "metadata": {
    "scrolled": true
   },
   "outputs": [
    {
     "data": {
      "text/plain": [
       "[<Experiment: artifact_location='file:///data/defeng/mlruns/1', experiment_id='1', lifecycle_stage='active', name='test1', tags={}>,\n",
       " <Experiment: artifact_location='file:///data/defeng/mlruns/0', experiment_id='0', lifecycle_stage='active', name='Default', tags={}>,\n",
       " <Experiment: artifact_location='file:///data/defeng/mlruns/2', experiment_id='2', lifecycle_stage='active', name='test2', tags={}>]"
      ]
     },
     "execution_count": 10,
     "metadata": {},
     "output_type": "execute_result"
    }
   ],
   "source": [
    "from mlflow.entities import ViewType\n",
    "\n",
    "client.list_experiments(ViewType.ALL) # ACTIVE_ONLY, DELETED_ONLY, or ALL"
   ]
  },
  {
   "cell_type": "markdown",
   "metadata": {},
   "source": [
    "TODO 测试这两个create函数和ui的关系！ ✔\n",
    "\n",
    "mlflow server --backend-store-uri sqlite:////data/defeng/mlruns/registry.db --port 10500 --default-artifact-root file:///data/defeng/mlruns/  <br>\n",
    "** 这样子设置artifacts路径之后，和之前使用mlflow ui时一样，即层级结构还是**~/mlruns/**exp_id/run_id/artifacts"
   ]
  },
  {
   "cell_type": "markdown",
   "metadata": {},
   "source": [
    "从上面这部分的例子可以看出，client像是一个服务，在这个服务下可以建设exp，而在exp下又可以建构各个run。<br>\n",
    "在mlflow官方的quickstart和例子中，大多使用with mlflow.start_run()，或其他mlflow.XX的API(https://mlflow.org/docs/latest/python_api/mlflow.html#mlflow.start_run) 。<br>\n",
    "这是因为这些官方例子中，没有考虑到设置exp name等相关参数的事情(而是交给了系统自行设置)。<br>\n",
    "可在上面这样的例子中，不能再使用用with mlflow.start_run()，或其他mlflow.XX的API，因为**我们使用了client，而client本身就相当于mlflow.**。<br>所以我们要改用client的API(https://mlflow.org/docs/latest/python_api/mlflow.tracking.html#mlflow.tracking.MlflowClient) 。<br>\n",
    "TODO more ✔\n",
    "- 如何在exp和run中集成代码和git管理(mlflow projects)\n",
    "- 如何恢复之前的run的运行，查询所有的run，可视化之前的run的数据等。\n",
    "- 数据库作为存储的模式(src: https://mlflow.org/docs/latest/tracking.html#scenario-2-mlflow-on-localhost-with-sqlite)"
   ]
  }
 ],
 "metadata": {
  "kernelspec": {
   "display_name": "Python 3.7.10 ('IL')",
   "language": "python",
   "name": "python3"
  },
  "language_info": {
   "codemirror_mode": {
    "name": "ipython",
    "version": 3
   },
   "file_extension": ".py",
   "mimetype": "text/x-python",
   "name": "python",
   "nbconvert_exporter": "python",
   "pygments_lexer": "ipython3",
   "version": "3.7.10"
  },
  "toc": {
   "base_numbering": 1,
   "nav_menu": {},
   "number_sections": true,
   "sideBar": true,
   "skip_h1_title": false,
   "title_cell": "Table of Contents",
   "title_sidebar": "Contents",
   "toc_cell": false,
   "toc_position": {},
   "toc_section_display": true,
   "toc_window_display": false
  },
  "vscode": {
   "interpreter": {
    "hash": "97043d4216b1d708c81888be63d470d99bec13f1286e5c44e132b839c078f3fe"
   }
  }
 },
 "nbformat": 4,
 "nbformat_minor": 4
}
