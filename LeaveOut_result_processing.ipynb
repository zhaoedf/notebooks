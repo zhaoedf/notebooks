{
 "cells": [
  {
   "cell_type": "code",
   "execution_count": 82,
   "id": "electoral-memory",
   "metadata": {},
   "outputs": [],
   "source": [
    "import torch"
   ]
  },
  {
   "cell_type": "markdown",
   "id": "emerging-international",
   "metadata": {},
   "source": [
    "# test torch.utils.data.Subset"
   ]
  },
  {
   "cell_type": "code",
   "execution_count": 29,
   "id": "paperback-mailman",
   "metadata": {
    "scrolled": true
   },
   "outputs": [
    {
     "name": "stdout",
     "output_type": "stream",
     "text": [
      "---------------------------------------------------------------------------\n",
      "[1, 2, 3, 4, 5, 6, 7, 8, 9, 10, 11] torch.Size([1, 512, 512])\n",
      "[0] torch.Size([1, 512, 512])\n",
      "---------------------------------------------------------------------------\n",
      "[0, 2, 3, 4, 5, 6, 7, 8, 9, 10, 11] torch.Size([1, 512, 512])\n",
      "[1] torch.Size([1, 512, 512])\n",
      "---------------------------------------------------------------------------\n",
      "[0, 1, 3, 4, 5, 6, 7, 8, 9, 10, 11] torch.Size([1, 512, 512])\n",
      "[2] torch.Size([1, 512, 512])\n",
      "---------------------------------------------------------------------------\n",
      "[0, 1, 2, 4, 5, 6, 7, 8, 9, 10, 11] torch.Size([1, 512, 512])\n",
      "[3] torch.Size([1, 512, 512])\n",
      "---------------------------------------------------------------------------\n",
      "[0, 1, 2, 3, 5, 6, 7, 8, 9, 10, 11] torch.Size([1, 512, 512])\n",
      "[4] torch.Size([1, 512, 512])\n",
      "---------------------------------------------------------------------------\n",
      "[0, 1, 2, 3, 4, 6, 7, 8, 9, 10, 11] torch.Size([1, 512, 512])\n",
      "[5] torch.Size([1, 512, 512])\n",
      "---------------------------------------------------------------------------\n",
      "[0, 1, 2, 3, 4, 5, 7, 8, 9, 10, 11] torch.Size([1, 512, 512])\n",
      "[6] torch.Size([1, 512, 512])\n",
      "---------------------------------------------------------------------------\n",
      "[0, 1, 2, 3, 4, 5, 6, 8, 9, 10, 11] torch.Size([1, 512, 512])\n",
      "[7] torch.Size([1, 512, 512])\n",
      "---------------------------------------------------------------------------\n",
      "[0, 1, 2, 3, 4, 5, 6, 7, 9, 10, 11] torch.Size([1, 512, 512])\n",
      "[8] torch.Size([1, 512, 512])\n",
      "---------------------------------------------------------------------------\n",
      "[0, 1, 2, 3, 4, 5, 6, 7, 8, 10, 11] torch.Size([1, 512, 512])\n",
      "[9] torch.Size([1, 512, 512])\n",
      "---------------------------------------------------------------------------\n",
      "[0, 1, 2, 3, 4, 5, 6, 7, 8, 9, 11] torch.Size([1, 512, 512])\n",
      "[10] torch.Size([1, 512, 512])\n",
      "---------------------------------------------------------------------------\n",
      "[0, 1, 2, 3, 4, 5, 6, 7, 8, 9, 10] torch.Size([1, 512, 512])\n",
      "[11] torch.Size([1, 512, 512])\n"
     ]
    },
    {
     "data": {
      "text/plain": [
       "'\\n    从源码来看：h%killbgscriptstps://pytorch.org/docs/master/_modules/torch/utils/data/dataset.html#Subset\\n    上面循环中的得到的各个subset都是共用同一个“父亲”dataset对象，但是这并%%sh任何的影响和干扰(从源码易懂)！\\n'"
      ]
     },
     "execution_count": 29,
     "metadata": {},
     "output_type": "execute_result"
    }
   ],
   "source": [
    "from torch.utils.data import Subset\n",
    "\n",
    "from utils.dataset import BasicDataset\n",
    "dataset = BasicDataset('./data/imgs/', './data/masks/', 1.0,mask_suffix='_mask')\n",
    "size = len(dataset)\n",
    "\n",
    "sets = []\n",
    "leave_out_subsets = []\n",
    "\n",
    "for i in range(size):\n",
    "    #sets.append(BasicDataset('./data/imgs/', './data/masks/', 1.0,mask_suffix='_mask'))\n",
    "    \n",
    "    print('-'*75)\n",
    "    \n",
    "    train_indexs = list(range(size))\n",
    "    train_indexs.remove(i)\n",
    "    \n",
    "    train = Subset(dataset,train_indexs)\n",
    "    val = Subset(dataset,[i,])\n",
    "    \n",
    "    print(train.indices,train[0]['image'].shape)\n",
    "    print(val.indices,val[0]['image'].shape)\n",
    "    \n",
    "    leave_out_subsets.append([train,val])\n",
    "    \n",
    "    \n",
    "'''\n",
    "    从源码来看：h%killbgscriptstps://pytorch.org/docs/master/_modules/torch/utils/data/dataset.html#Subset\n",
    "    上面循环中的得到的各个subset都是共用同一个“父亲”dataset对象，但是这并%%sh任何的影响和干扰(从源码易懂)！\n",
    "'''"
   ]
  },
  {
   "cell_type": "code",
   "execution_count": 33,
   "id": "oriental-crack",
   "metadata": {
    "scrolled": true
   },
   "outputs": [
    {
     "name": "stdout",
     "output_type": "stream",
     "text": [
      "0\n",
      "1\n",
      "0\n",
      "1\n"
     ]
    }
   ],
   "source": [
    "for i in range(4):\n",
    "    print(i%2)\n"
   ]
  },
  {
   "cell_type": "code",
   "execution_count": 36,
   "id": "authentic-coaching",
   "metadata": {},
   "outputs": [
    {
     "data": {
      "text/plain": [
       "12"
      ]
     },
     "execution_count": 36,
     "metadata": {},
     "output_type": "execute_result"
    }
   ],
   "source": [
    "import os\n",
    "\n",
    "max_size = len(os.listdir('/GPUFS/sysu_rxwang_1/defeng/Pytorch-UNet/data/imgs/'))\n",
    "\n",
    "max_size"
   ]
  },
  {
   "cell_type": "markdown",
   "id": "combined-density",
   "metadata": {},
   "source": [
    "# show diff and predict on  train set"
   ]
  },
  {
   "cell_type": "markdown",
   "id": "pleased-messenger",
   "metadata": {},
   "source": [
    "显示在训练集上的train和val的结果。"
   ]
  },
  {
   "cell_type": "code",
   "execution_count": 3,
   "id": "piano-crack",
   "metadata": {},
   "outputs": [],
   "source": [
    "import os\n",
    "import logging \n",
    "\n",
    "import torch\n",
    "import torch.nn.functional as F\n",
    "from torch.utils.data import Dataset,DataLoader\n",
    "\n",
    "#from tqdm import tqdm\n",
    "from tqdm.notebook import tqdm\n",
    "\n",
    "from dice_loss import dice_coeff\n",
    "\n",
    "from PIL import Image\n",
    "import cv2\n",
    "import numpy as np\n",
    "\n",
    "from torchvision import transforms\n",
    "\n",
    "from unet import UNet\n",
    "from utils.data_vis import plot_img_and_mask\n",
    "from utils.dataset import BasicDataset"
   ]
  },
  {
   "cell_type": "code",
   "execution_count": 16,
   "id": "downtown-shareware",
   "metadata": {},
   "outputs": [],
   "source": [
    "def leave_out_eval(net, loader, device,save_path,imgs_name):\n",
    "    \"\"\"Evaluation without the densecrf with the dice coefficient\"\"\"\n",
    "    mask_type = torch.float32 if net.n_classes == 1 else torch.long\n",
    "    \n",
    "    flag=0\n",
    "    with tqdm(total=len(loader), desc='Prediction round', unit='batch', leave=True) as pbar:\n",
    "        for idx,batch in enumerate(loader):\n",
    "            imgs, true_masks = batch['image'], batch['mask']\n",
    "            imgs = imgs.to(device=device, dtype=torch.float32)\n",
    "            #true_masks = true_masks.to(device=device, dtype=mask_type)\n",
    "            \n",
    "            \n",
    "            with torch.no_grad():\n",
    "                mask_pred = net(imgs)\n",
    "            \n",
    "            probs = torch.sigmoid(mask_pred)\n",
    "            pred = probs>0.5 #pred:[8,512,512,1]\n",
    "            pred = pred.cpu().numpy().astype(np.uint8).transpose(0,2,3,1) #pred:[8,512,512,1]\n",
    "            if flag==0:\n",
    "                flag=1\n",
    "                np.save('probs.npy',probs.cpu().numpy())\n",
    "            \n",
    "            diff = pred - true_masks.cpu().numpy().astype(np.uint8).transpose(0,2,3,1) #diff:[8,512,512,1]\n",
    "            diff = np.squeeze(diff,axis=-1) #diff:[8,512,512]\n",
    "            #diff = diff.repeat([3],axis=-1)\n",
    "            pred = pred*255\n",
    "            blue = [255,0,0]\n",
    "            red = [0,0,255]\n",
    "            \n",
    "            for i,pic in enumerate(pred):\n",
    "                cv2.imwrite(os.path.join(save_path,imgs_name[i]),pic)\n",
    "                \n",
    "                color_diff = np.ones((*diff.shape[1:],3))\n",
    "                color_diff[diff[i]==1] = blue #over estimate\n",
    "                color_diff[diff[i]==-1] = red #under estimate\n",
    "                cv2.imwrite(os.path.join(save_path,'diff_'+imgs_name[i]),color_diff)\n",
    "                \n",
    "                i+=1\n",
    "            \n",
    "            pbar.update(1)"
   ]
  },
  {
   "cell_type": "code",
   "execution_count": 17,
   "id": "atlantic-height",
   "metadata": {
    "scrolled": false
   },
   "outputs": [
    {
     "name": "stdout",
     "output_type": "stream",
     "text": [
      "['5', '4', '10', '6', '12', '13', '1', '7', '0', '2', '8', '3']\n",
      "Group:exp3_4 Model loaded !\n",
      "deleting... Done!\n"
     ]
    },
    {
     "data": {
      "application/vnd.jupyter.widget-view+json": {
       "model_id": "ee452c8c721d4ef585c31f84aa5245bd",
       "version_major": 2,
       "version_minor": 0
      },
      "text/plain": [
       "Prediction round:   0%|          | 0/2 [00:00<?, ?batch/s]"
      ]
     },
     "metadata": {},
     "output_type": "display_data"
    },
    {
     "name": "stdout",
     "output_type": "stream",
     "text": [
      "Group:exp3_6 Model loaded !\n",
      "deleting... Done!\n"
     ]
    },
    {
     "data": {
      "application/vnd.jupyter.widget-view+json": {
       "model_id": "a1154bd65eed439cabded3b7eae9eed3",
       "version_major": 2,
       "version_minor": 0
      },
      "text/plain": [
       "Prediction round:   0%|          | 0/2 [00:00<?, ?batch/s]"
      ]
     },
     "metadata": {},
     "output_type": "display_data"
    },
    {
     "name": "stdout",
     "output_type": "stream",
     "text": [
      "Group:exp3_9 Model loaded !\n",
      "deleting... Done!\n"
     ]
    },
    {
     "data": {
      "application/vnd.jupyter.widget-view+json": {
       "model_id": "00d7055b70e743a6b674f10a503f9565",
       "version_major": 2,
       "version_minor": 0
      },
      "text/plain": [
       "Prediction round:   0%|          | 0/2 [00:00<?, ?batch/s]"
      ]
     },
     "metadata": {},
     "output_type": "display_data"
    },
    {
     "name": "stdout",
     "output_type": "stream",
     "text": [
      "Group:exp3_0 Model loaded !\n",
      "deleting... Done!\n"
     ]
    },
    {
     "data": {
      "application/vnd.jupyter.widget-view+json": {
       "model_id": "da74e130676f41a0be03d1eab6898647",
       "version_major": 2,
       "version_minor": 0
      },
      "text/plain": [
       "Prediction round:   0%|          | 0/2 [00:00<?, ?batch/s]"
      ]
     },
     "metadata": {},
     "output_type": "display_data"
    },
    {
     "name": "stdout",
     "output_type": "stream",
     "text": [
      "Group:exp3_1 Model loaded !\n",
      "deleting... Done!\n"
     ]
    },
    {
     "data": {
      "application/vnd.jupyter.widget-view+json": {
       "model_id": "1d0d54a6f2384a41b8871cc1d91af9d5",
       "version_major": 2,
       "version_minor": 0
      },
      "text/plain": [
       "Prediction round:   0%|          | 0/2 [00:00<?, ?batch/s]"
      ]
     },
     "metadata": {},
     "output_type": "display_data"
    },
    {
     "name": "stdout",
     "output_type": "stream",
     "text": [
      "Group:exp3_3 Model loaded !\n",
      "deleting... Done!\n"
     ]
    },
    {
     "data": {
      "application/vnd.jupyter.widget-view+json": {
       "model_id": "5ec7bba835794c249e2924a074119369",
       "version_major": 2,
       "version_minor": 0
      },
      "text/plain": [
       "Prediction round:   0%|          | 0/2 [00:00<?, ?batch/s]"
      ]
     },
     "metadata": {},
     "output_type": "display_data"
    },
    {
     "name": "stdout",
     "output_type": "stream",
     "text": [
      "Group:exp3_7 Model loaded !\n",
      "deleting... Done!\n"
     ]
    },
    {
     "data": {
      "application/vnd.jupyter.widget-view+json": {
       "model_id": "772ffd17458d447491a805a1ac7aad4a",
       "version_major": 2,
       "version_minor": 0
      },
      "text/plain": [
       "Prediction round:   0%|          | 0/2 [00:00<?, ?batch/s]"
      ]
     },
     "metadata": {},
     "output_type": "display_data"
    },
    {
     "name": "stdout",
     "output_type": "stream",
     "text": [
      "Group:exp3_10 Model loaded !\n",
      "deleting... Done!\n"
     ]
    },
    {
     "data": {
      "application/vnd.jupyter.widget-view+json": {
       "model_id": "b52a58f5bb434a85b54bbb8700fe20b6",
       "version_major": 2,
       "version_minor": 0
      },
      "text/plain": [
       "Prediction round:   0%|          | 0/2 [00:00<?, ?batch/s]"
      ]
     },
     "metadata": {},
     "output_type": "display_data"
    },
    {
     "name": "stdout",
     "output_type": "stream",
     "text": [
      "Group:exp3_8 Model loaded !\n",
      "deleting... Done!\n"
     ]
    },
    {
     "data": {
      "application/vnd.jupyter.widget-view+json": {
       "model_id": "09cccc8c0c9f48639acd9addae5bb055",
       "version_major": 2,
       "version_minor": 0
      },
      "text/plain": [
       "Prediction round:   0%|          | 0/2 [00:00<?, ?batch/s]"
      ]
     },
     "metadata": {},
     "output_type": "display_data"
    },
    {
     "name": "stdout",
     "output_type": "stream",
     "text": [
      "Group:exp3_2 Model loaded !\n",
      "deleting... Done!\n"
     ]
    },
    {
     "data": {
      "application/vnd.jupyter.widget-view+json": {
       "model_id": "cf10fff42a634f4587fb008011fd15ad",
       "version_major": 2,
       "version_minor": 0
      },
      "text/plain": [
       "Prediction round:   0%|          | 0/2 [00:00<?, ?batch/s]"
      ]
     },
     "metadata": {},
     "output_type": "display_data"
    },
    {
     "name": "stdout",
     "output_type": "stream",
     "text": [
      "Group:exp3_11 Model loaded !\n",
      "deleting... Done!\n"
     ]
    },
    {
     "data": {
      "application/vnd.jupyter.widget-view+json": {
       "model_id": "83b4f913a9a644258a5b2ded295e0905",
       "version_major": 2,
       "version_minor": 0
      },
      "text/plain": [
       "Prediction round:   0%|          | 0/2 [00:00<?, ?batch/s]"
      ]
     },
     "metadata": {},
     "output_type": "display_data"
    },
    {
     "name": "stdout",
     "output_type": "stream",
     "text": [
      "Group:exp3_5 Model loaded !\n",
      "deleting... Done!\n"
     ]
    },
    {
     "data": {
      "application/vnd.jupyter.widget-view+json": {
       "model_id": "c166e95a0be1475cb1c0fc90596e0981",
       "version_major": 2,
       "version_minor": 0
      },
      "text/plain": [
       "Prediction round:   0%|          | 0/2 [00:00<?, ?batch/s]"
      ]
     },
     "metadata": {},
     "output_type": "display_data"
    }
   ],
   "source": [
    "if __name__ == \"__main__\":\n",
    "    dir_img = 'data/imgs/'\n",
    "    dir_mask = 'data/masks/'\n",
    "    dataset = BasicDataset(dir_img, dir_mask, 1.0,mask_suffix='_mask')\n",
    "    loader = DataLoader(dataset, batch_size=8, shuffle=False, num_workers=8, pin_memory=False, drop_last=False)\n",
    "\n",
    "    net = UNet(n_channels=1, n_classes=1)\n",
    "    net.eval()\n",
    "\n",
    "    device = torch.device('cuda:0' if torch.cuda.is_available() else 'cpu')\n",
    "    logging.info(f'Using device {device}')\n",
    "    net.to(device=device)\n",
    "    \n",
    "    #name = 'backup4-DICE-UNet'\n",
    "    name = 'backup3-BCE-UNet'\n",
    "    \n",
    "    cpkts_path = '/GPUFS/sysu_rxwang_1/defeng/%s/checkpoints/'%(name)\n",
    "    cpkts_name = os.listdir(cpkts_path)\n",
    "    \n",
    "    save_path = '/GPUFS/sysu_rxwang_1/defeng/%s/data/val_result'%(name)\n",
    "    imgs_name = os.listdir('/GPUFS/sysu_rxwang_1/defeng/%s/data/imgs/'%(name))\n",
    "    \n",
    "    for idx,group in enumerate(cpkts_name):\n",
    "        net.load_state_dict(torch.load(os.path.join(cpkts_path,group,'best.pth'), map_location=device))\n",
    "        print(\"Group:%s Model loaded !\"%(group))\n",
    "        \n",
    "        path = os.path.join(save_path,group)\n",
    "        if os.path.exists(path):\n",
    "            import shutil\n",
    "            shutil.rmtree(path, ignore_errors=True)\n",
    "            print(\"deleting... Done!\")\n",
    "        os.mkdir(path)\n",
    "        \n",
    "        leave_out_eval(net,loader,device,path,imgs_name)"
   ]
  },
  {
   "cell_type": "markdown",
   "id": "joint-safety",
   "metadata": {},
   "source": [
    "# color map (can be exploited in the future)"
   ]
  },
  {
   "cell_type": "code",
   "execution_count": 204,
   "id": "still-right",
   "metadata": {
    "scrolled": true
   },
   "outputs": [
    {
     "data": {
      "text/plain": [
       "(512, 512)"
      ]
     },
     "execution_count": 204,
     "metadata": {},
     "output_type": "execute_result"
    }
   ],
   "source": [
    "img = cv2.imread('../backup4-UNet/data/val_result/exp3_0/diff_1.jpg',0)\n",
    "img.shape"
   ]
  },
  {
   "cell_type": "code",
   "execution_count": 163,
   "id": "southwest-disability",
   "metadata": {},
   "outputs": [],
   "source": [
    "\n",
    "def colormap(n):\n",
    "    '''\n",
    "    这里有19个颜色，根据自己数据来使用，也可以根据自己的喜爱修改颜色的值。n就是num_classes.\n",
    "    np.uint8意味着array的值为0-255中间。\n",
    "    cmap就是一个映射，当标签为1的时候，这个像素转换成RGB就是[244, 35,232]的三通道值。\n",
    "    '''\n",
    "    cmap=np.zeros([n, 3]).astype(np.uint8)\n",
    "    cmap[0,:] = np.array([ 0,  0,  0])\n",
    "    cmap[1,:] = np.array([244, 35,232])\n",
    "    cmap[2,:] = np.array([ 70, 70, 70])\n",
    "    cmap[3,:] = np.array([ 102,102,156])\n",
    "    cmap[4,:] = np.array([ 190,153,153])\n",
    "    cmap[5,:] = np.array([ 153,153,153])\n",
    " \n",
    "    cmap[6,:] = np.array([ 250,170, 30])\n",
    "    cmap[7,:] = np.array([ 220,220,  0])\n",
    "    cmap[8,:] = np.array([ 107,142, 35])\n",
    "    cmap[9,:] = np.array([ 152,251,152])\n",
    "    cmap[10,:] = np.array([ 70,130,180])\n",
    " \n",
    "    cmap[11,:] = np.array([ 220, 20, 60])\n",
    "    cmap[12,:] = np.array([ 119, 11, 32])\n",
    "    cmap[13,:] = np.array([ 0,  0,142])\n",
    "    cmap[14,:] = np.array([  0,  0, 70])\n",
    "    cmap[15,:] = np.array([  0, 60,100])\n",
    " \n",
    "    cmap[16,:] = np.array([  0, 80,100])\n",
    "    cmap[17,:] = np.array([  0,  0,230])\n",
    "    cmap[18,:] = np.array([ 255,  0,  0])\n",
    "    \n",
    "    return cmap\n"
   ]
  },
  {
   "cell_type": "code",
   "execution_count": 206,
   "id": "charitable-tractor",
   "metadata": {},
   "outputs": [],
   "source": [
    "class Colorize:\n",
    "    def __init__(self, n=2):\n",
    "        self.cmap = colormap(2)\n",
    "        self.cmap[n] = self.cmap[-1]\n",
    "        self.cmap = torch.from_numpy(self.cmap[:n])#array->tensor\n",
    " \n",
    "    def __call__(self, gray_image):\n",
    "        size = gray_image.size()#这里就是上文的output\n",
    "        color_image = torch.ByteTensor(3, size[0], size[1]).fill_(0)\n",
    " \n",
    "        for label in range(0, len(self.cmap)):\n",
    "            mask = gray_image == label\n",
    "            color_image[0][mask] = self.cmap[label][0]\n",
    "            color_image[1][mask] = self.cmap[label][1]\n",
    "            color_image[2][mask] = self.cmap[label][2]\n",
    " \n",
    "        return color_image\n"
   ]
  },
  {
   "cell_type": "markdown",
   "id": "alien-interpretation",
   "metadata": {},
   "source": [
    "# np.where is a disaster"
   ]
  },
  {
   "cell_type": "code",
   "execution_count": 214,
   "id": "located-syntax",
   "metadata": {
    "scrolled": false
   },
   "outputs": [
    {
     "data": {
      "text/plain": [
       "array([[[-0.04584008, -1.10596792,  2.0051606 ],\n",
       "        [ 0.59737921,  1.63828467, -0.29461262]],\n",
       "\n",
       "       [[-1.45298915,  0.40394504,  1.3919785 ],\n",
       "        [-0.4557085 ,  0.92478412, -0.48064994]]])"
      ]
     },
     "execution_count": 214,
     "metadata": {},
     "output_type": "execute_result"
    }
   ],
   "source": [
    "temp = np.random.randn(2,2,3)\n",
    "temp"
   ]
  },
  {
   "cell_type": "code",
   "execution_count": 217,
   "id": "serial-privacy",
   "metadata": {},
   "outputs": [],
   "source": [
    "temp1 = np.where(temp==[-0.04584008, -1.10596792,  2.0051606],[255.0]*3,[1.0]*3)"
   ]
  },
  {
   "cell_type": "code",
   "execution_count": 218,
   "id": "abroad-garbage",
   "metadata": {},
   "outputs": [
    {
     "data": {
      "text/plain": [
       "array([[[1., 1., 1.],\n",
       "        [1., 1., 1.]],\n",
       "\n",
       "       [[1., 1., 1.],\n",
       "        [1., 1., 1.]]])"
      ]
     },
     "execution_count": 218,
     "metadata": {},
     "output_type": "execute_result"
    }
   ],
   "source": [
    "temp1"
   ]
  },
  {
   "cell_type": "code",
   "execution_count": 212,
   "id": "dutch-negative",
   "metadata": {},
   "outputs": [],
   "source": [
    "temp[0] = np.array([2.2,3.2,5.1])"
   ]
  },
  {
   "cell_type": "code",
   "execution_count": 213,
   "id": "civilian-metropolitan",
   "metadata": {
    "scrolled": true
   },
   "outputs": [
    {
     "data": {
      "text/plain": [
       "array([[[ 2.2       ,  3.2       ,  5.1       ],\n",
       "        [ 2.2       ,  3.2       ,  5.1       ]],\n",
       "\n",
       "       [[ 1.83185683,  0.09220815, -0.75080739],\n",
       "        [ 0.04100745,  0.96471119,  1.06192293]]])"
      ]
     },
     "execution_count": 213,
     "metadata": {},
     "output_type": "execute_result"
    }
   ],
   "source": [
    "temp"
   ]
  },
  {
   "cell_type": "code",
   "execution_count": 233,
   "id": "interested-talent",
   "metadata": {},
   "outputs": [
    {
     "data": {
      "text/plain": [
       "array([[0, 1, 0, 1],\n",
       "       [0, 0, 1, 1],\n",
       "       [0, 0, 0, 1],\n",
       "       [0, 1, 0, 0]])"
      ]
     },
     "execution_count": 233,
     "metadata": {},
     "output_type": "execute_result"
    }
   ],
   "source": [
    "mask = np.random.randint(0,2,(4,4))\n",
    "mask"
   ]
  },
  {
   "cell_type": "code",
   "execution_count": 241,
   "id": "israeli-algeria",
   "metadata": {},
   "outputs": [
    {
     "data": {
      "text/plain": [
       "array([[[1., 1., 1.],\n",
       "        [1., 1., 1.],\n",
       "        [1., 1., 1.],\n",
       "        [1., 1., 1.]],\n",
       "\n",
       "       [[1., 1., 1.],\n",
       "        [1., 1., 1.],\n",
       "        [1., 1., 1.],\n",
       "        [1., 1., 1.]],\n",
       "\n",
       "       [[1., 1., 1.],\n",
       "        [1., 1., 1.],\n",
       "        [1., 1., 1.],\n",
       "        [1., 1., 1.]],\n",
       "\n",
       "       [[1., 1., 1.],\n",
       "        [1., 1., 1.],\n",
       "        [1., 1., 1.],\n",
       "        [1., 1., 1.]]])"
      ]
     },
     "execution_count": 241,
     "metadata": {},
     "output_type": "execute_result"
    }
   ],
   "source": [
    "color_mask = np.ones((*mask.shape,3))\n",
    "color_mask"
   ]
  },
  {
   "cell_type": "code",
   "execution_count": 242,
   "id": "innocent-weekly",
   "metadata": {
    "scrolled": false
   },
   "outputs": [
    {
     "data": {
      "text/plain": [
       "array([[[255.,   0.,   0.],\n",
       "        [  1.,   1.,   1.],\n",
       "        [255.,   0.,   0.],\n",
       "        [  1.,   1.,   1.]],\n",
       "\n",
       "       [[255.,   0.,   0.],\n",
       "        [255.,   0.,   0.],\n",
       "        [  1.,   1.,   1.],\n",
       "        [  1.,   1.,   1.]],\n",
       "\n",
       "       [[255.,   0.,   0.],\n",
       "        [255.,   0.,   0.],\n",
       "        [255.,   0.,   0.],\n",
       "        [  1.,   1.,   1.]],\n",
       "\n",
       "       [[255.,   0.,   0.],\n",
       "        [  1.,   1.,   1.],\n",
       "        [255.,   0.,   0.],\n",
       "        [255.,   0.,   0.]]])"
      ]
     },
     "execution_count": 242,
     "metadata": {},
     "output_type": "execute_result"
    }
   ],
   "source": [
    "blue = [255,0,0]\n",
    "red = [0,0,255]\n",
    "\n",
    "color_mask[mask==0] = blue\n",
    "color_mask"
   ]
  },
  {
   "cell_type": "code",
   "execution_count": 255,
   "id": "offshore-shaft",
   "metadata": {},
   "outputs": [
    {
     "name": "stderr",
     "output_type": "stream",
     "text": [
      "WARNING:matplotlib.image:Clipping input data to the valid range for imshow with RGB data ([0..1] for floats or [0..255] for integers).\n"
     ]
    },
    {
     "data": {
      "text/plain": [
       "<matplotlib.image.AxesImage at 0x2b923480d510>"
      ]
     },
     "execution_count": 255,
     "metadata": {},
     "output_type": "execute_result"
    },
    {
     "data": {
      "image/png": "[encoded data removed]",
      "text/plain": [
       "<Figure size 432x288 with 1 Axes>"
      ]
     },
     "metadata": {
      "needs_background": "light"
     },
     "output_type": "display_data"
    }
   ],
   "source": [
    "import matplotlib.pyplot as plt\n",
    "plt.imshow(color_mask)"
   ]
  },
  {
   "cell_type": "code",
   "execution_count": 245,
   "id": "sacred-antarctica",
   "metadata": {},
   "outputs": [
    {
     "data": {
      "text/plain": [
       "(4,)"
      ]
     },
     "execution_count": 245,
     "metadata": {},
     "output_type": "execute_result"
    }
   ],
   "source": [
    "color_mask.shape[:-2]"
   ]
  },
  {
   "cell_type": "code",
   "execution_count": 243,
   "id": "breathing-macro",
   "metadata": {
    "scrolled": true
   },
   "outputs": [
    {
     "ename": "ValueError",
     "evalue": "operands could not be broadcast together with shapes (4,4) (3,) (4,4,3) ",
     "output_type": "error",
     "traceback": [
      "\u001b[0;31m---------------------------------------------------------------------------\u001b[0m",
      "\u001b[0;31mValueError\u001b[0m                                Traceback (most recent call last)",
      "\u001b[0;32m<ipython-input-243-ae3d317ac164>\u001b[0m in \u001b[0;36m<module>\u001b[0;34m\u001b[0m\n\u001b[0;32m----> 1\u001b[0;31m \u001b[0mnp\u001b[0m\u001b[0;34m.\u001b[0m\u001b[0mwhere\u001b[0m\u001b[0;34m(\u001b[0m\u001b[0mmask\u001b[0m\u001b[0;34m==\u001b[0m\u001b[0;36m1\u001b[0m\u001b[0;34m,\u001b[0m\u001b[0mblue\u001b[0m\u001b[0;34m,\u001b[0m\u001b[0mcolor_mask\u001b[0m\u001b[0;34m)\u001b[0m\u001b[0;34m\u001b[0m\u001b[0;34m\u001b[0m\u001b[0m\n\u001b[0m",
      "\u001b[0;32m<__array_function__ internals>\u001b[0m in \u001b[0;36mwhere\u001b[0;34m(*args, **kwargs)\u001b[0m\n",
      "\u001b[0;31mValueError\u001b[0m: operands could not be broadcast together with shapes (4,4) (3,) (4,4,3) "
     ]
    }
   ],
   "source": [
    "np.where(mask==1,blue,color_mask)"
   ]
  },
  {
   "cell_type": "markdown",
   "id": "opening-factory",
   "metadata": {},
   "source": [
    "# simple boolean index matrix can work."
   ]
  },
  {
   "cell_type": "markdown",
   "id": "flush-webster",
   "metadata": {},
   "source": [
    "<a color='red'>worked!</a>"
   ]
  },
  {
   "cell_type": "code",
   "execution_count": 267,
   "id": "powerful-revision",
   "metadata": {},
   "outputs": [
    {
     "data": {
      "text/plain": [
       "array([[[1., 1., 1.],\n",
       "        [1., 1., 1.],\n",
       "        [1., 1., 1.],\n",
       "        ...,\n",
       "        [1., 1., 1.],\n",
       "        [1., 1., 1.],\n",
       "        [1., 1., 1.]],\n",
       "\n",
       "       [[1., 1., 1.],\n",
       "        [1., 1., 1.],\n",
       "        [1., 1., 1.],\n",
       "        ...,\n",
       "        [1., 1., 1.],\n",
       "        [1., 1., 1.],\n",
       "        [1., 1., 1.]],\n",
       "\n",
       "       [[1., 1., 1.],\n",
       "        [1., 1., 1.],\n",
       "        [1., 1., 1.],\n",
       "        ...,\n",
       "        [1., 1., 1.],\n",
       "        [1., 1., 1.],\n",
       "        [1., 1., 1.]],\n",
       "\n",
       "       ...,\n",
       "\n",
       "       [[1., 1., 1.],\n",
       "        [1., 1., 1.],\n",
       "        [1., 1., 1.],\n",
       "        ...,\n",
       "        [1., 1., 1.],\n",
       "        [1., 1., 1.],\n",
       "        [1., 1., 1.]],\n",
       "\n",
       "       [[1., 1., 1.],\n",
       "        [1., 1., 1.],\n",
       "        [1., 1., 1.],\n",
       "        ...,\n",
       "        [1., 1., 1.],\n",
       "        [1., 1., 1.],\n",
       "        [1., 1., 1.]],\n",
       "\n",
       "       [[1., 1., 1.],\n",
       "        [1., 1., 1.],\n",
       "        [1., 1., 1.],\n",
       "        ...,\n",
       "        [1., 1., 1.],\n",
       "        [1., 1., 1.],\n",
       "        [1., 1., 1.]]])"
      ]
     },
     "execution_count": 267,
     "metadata": {},
     "output_type": "execute_result"
    }
   ],
   "source": [
    "mask = np.random.randint(0,2,(512,512))\n",
    "diff = np.ones((512,512,3))\n",
    "diff"
   ]
  },
  {
   "cell_type": "code",
   "execution_count": 268,
   "id": "owned-technique",
   "metadata": {},
   "outputs": [],
   "source": [
    "diff[mask==1]=[255,0,0]"
   ]
  },
  {
   "cell_type": "code",
   "execution_count": 262,
   "id": "normal-angola",
   "metadata": {},
   "outputs": [
    {
     "data": {
      "text/plain": [
       "array([[[  1.,   1.,   1.],\n",
       "        [  1.,   1.,   1.],\n",
       "        [255.,   0.,   0.],\n",
       "        [255.,   0.,   0.]],\n",
       "\n",
       "       [[255.,   0.,   0.],\n",
       "        [  1.,   1.,   1.],\n",
       "        [255.,   0.,   0.],\n",
       "        [  1.,   1.,   1.]],\n",
       "\n",
       "       [[255.,   0.,   0.],\n",
       "        [  1.,   1.,   1.],\n",
       "        [255.,   0.,   0.],\n",
       "        [255.,   0.,   0.]],\n",
       "\n",
       "       [[  1.,   1.,   1.],\n",
       "        [255.,   0.,   0.],\n",
       "        [  1.,   1.,   1.],\n",
       "        [255.,   0.,   0.]]])"
      ]
     },
     "execution_count": 262,
     "metadata": {},
     "output_type": "execute_result"
    }
   ],
   "source": [
    "diff"
   ]
  },
  {
   "cell_type": "code",
   "execution_count": 269,
   "id": "documented-literature",
   "metadata": {
    "scrolled": true
   },
   "outputs": [
    {
     "data": {
      "text/plain": [
       "array([255.,   0.,   0.])"
      ]
     },
     "execution_count": 269,
     "metadata": {},
     "output_type": "execute_result"
    }
   ],
   "source": [
    "diff[0,3]"
   ]
  },
  {
   "cell_type": "markdown",
   "id": "determined-trail",
   "metadata": {},
   "source": [
    "# border analysis"
   ]
  },
  {
   "cell_type": "markdown",
   "id": "daily-tourism",
   "metadata": {},
   "source": [
    "1. 取flat的序列，首先取出>0.5的数，然后进行排序，得到>0.5中的后10%的value值\n",
    "2. 将1.中的value值作为threshold，然后去未flat的prob中筛选出对应的空间点，即 pred>0.5 and pred < value"
   ]
  },
  {
   "cell_type": "code",
   "execution_count": 72,
   "id": "equal-swaziland",
   "metadata": {
    "scrolled": false
   },
   "outputs": [
    {
     "data": {
      "image/png": "[encoded data removed]",
      "text/plain": [
       "<Figure size 1080x1080 with 8 Axes>"
      ]
     },
     "metadata": {
      "needs_background": "light"
     },
     "output_type": "display_data"
    }
   ],
   "source": [
    "import matplotlib.pyplot as plt\n",
    "\n",
    "rows = 2\n",
    "cols = 4\n",
    "fig,ax = plt.subplots(rows,cols,figsize=[15,15])\n",
    "start_with = 0\n",
    "\n",
    "probs = np.load('/GPUFS/sysu_rxwang_1/defeng/backup4-DICE-UNet/probs.npy').transpose(0,2,3,1)\n",
    "\n",
    "for i in range(rows*cols):\n",
    "    #ind = start_with + i*show_every\n",
    "    \n",
    "    pred = probs[i]\n",
    "\n",
    "    mask = pred>0.5\n",
    "    pred_flat = pred[mask].flatten()\n",
    "    pred_flat.sort()\n",
    "    percent = int(pred_flat.shape[0]*0.1)\n",
    "    value = pred_flat[percent]\n",
    "\n",
    "    points = (pred>0.5) & (pred<value)\n",
    "    result = pred * points\n",
    "    \n",
    "    #print(int(i/cols),int(i%cols))\n",
    "    ax[int(i/cols),int(i % cols)].set_title('slice %d,value:%f' % (i,value))\n",
    "    ax[int(i/cols),int(i % cols)].imshow(result,cmap='gray')\n",
    "    ax[int(i/cols),int(i % cols)].axis('off')\n",
    "\n",
    "plt.show()\n"
   ]
  },
  {
   "cell_type": "markdown",
   "id": "shaped-chorus",
   "metadata": {},
   "source": [
    "<mark>pytorch version</mark>"
   ]
  },
  {
   "cell_type": "code",
   "execution_count": 80,
   "id": "still-employee",
   "metadata": {},
   "outputs": [],
   "source": [
    "def cal_low_conf_pixels(probs,device):\n",
    "    bs = probs.shape[0]\n",
    "    results = torch.zeros(probs.shape).to(device)\n",
    "    \n",
    "    for i in range(bs):\n",
    "        prob = probs[i]\n",
    "        mask = prob>0.5\n",
    "        pred_flat = prob[mask].flatten()\n",
    "        pred_flat = pred_flat.sort()[0]\n",
    "        percent = int(pred_flat.shape[0]*0.1)\n",
    "        value = pred_flat[percent]\n",
    "\n",
    "        points = (prob>0.5) & (prob<value)\n",
    "        result = prob * points\n",
    "        \n",
    "        results[i] += result\n",
    "        \n",
    "    return results "
   ]
  },
  {
   "cell_type": "code",
   "execution_count": 82,
   "id": "recognized-haiti",
   "metadata": {},
   "outputs": [],
   "source": [
    "device = torch.device('cpu')\n",
    "\n",
    "probs_torch = torch.from_numpy(probs)\n",
    "results = cal_low_conf_pixels(probs_torch,device)\n",
    "\n",
    "results_numpy = results.numpy()"
   ]
  },
  {
   "cell_type": "code",
   "execution_count": 83,
   "id": "joined-imaging",
   "metadata": {},
   "outputs": [
    {
     "data": {
      "image/png": "[encoded data removed]",
      "text/plain": [
       "<Figure size 1080x1080 with 8 Axes>"
      ]
     },
     "metadata": {
      "needs_background": "light"
     },
     "output_type": "display_data"
    }
   ],
   "source": [
    "rows = 2\n",
    "cols = 4\n",
    "fig,ax = plt.subplots(rows,cols,figsize=[15,15])\n",
    "start_with = 0\n",
    "\n",
    "for i in range(rows*cols):\n",
    "    pred = results_numpy[i]\n",
    "\n",
    "#     mask = pred>0.5\n",
    "#     pred_flat = pred[mask].flatten()\n",
    "#     pred_flat.sort()\n",
    "#     percent = int(pred_flat.shape[0]*0.1)\n",
    "#     value = pred_flat[percent]\n",
    "\n",
    "#     points = (pred>0.5) & (pred<value)\n",
    "#     result = pred * points\n",
    "    \n",
    "    #print(int(i/cols),int(i%cols))\n",
    "    ax[int(i/cols),int(i % cols)].set_title('slice %d,value:%f' % (i,value))\n",
    "    ax[int(i/cols),int(i % cols)].imshow(pred,cmap='gray')\n",
    "    ax[int(i/cols),int(i % cols)].axis('off')\n",
    "\n",
    "plt.show()"
   ]
  },
  {
   "cell_type": "markdown",
   "id": "defined-kazakhstan",
   "metadata": {},
   "source": [
    "可以看出，低置信度的区域都集中在边缘，所谓低置信度，其实就对应难样本，\n",
    "所以有可能通过focal loss来改善边缘的预测"
   ]
  },
  {
   "cell_type": "markdown",
   "id": "instant-arkansas",
   "metadata": {},
   "source": [
    "找到group3 outline的原因"
   ]
  },
  {
   "cell_type": "markdown",
   "id": "visible-conversation",
   "metadata": {},
   "source": [
    "focal loss"
   ]
  },
  {
   "cell_type": "markdown",
   "id": "applied-lingerie",
   "metadata": {},
   "source": [
    "分析为什么区域比true_mask大的原因，是不是可能医生的标注比较保守？"
   ]
  },
  {
   "cell_type": "markdown",
   "id": "weighted-estimate",
   "metadata": {},
   "source": [
    "仰文 UNet 分割 数据集 第六附属医院"
   ]
  },
  {
   "cell_type": "markdown",
   "id": "curious-avatar",
   "metadata": {},
   "source": [
    "可解释性，终身学习，异常检测，小样本，样本均衡"
   ]
  },
  {
   "cell_type": "markdown",
   "id": "loaded-given",
   "metadata": {},
   "source": [
    "<mark>numpy/torch 对应sort()中axis参数的理解<br>具体见OneNote</mark>"
   ]
  },
  {
   "cell_type": "code",
   "execution_count": 46,
   "id": "academic-composite",
   "metadata": {},
   "outputs": [
    {
     "data": {
      "text/plain": [
       "tensor([[1, 1, 0, 1],\n",
       "        [1, 0, 0, 1],\n",
       "        [0, 1, 1, 0]])"
      ]
     },
     "execution_count": 46,
     "metadata": {},
     "output_type": "execute_result"
    }
   ],
   "source": [
    "d = torch.randint(0,2,(3,4))\n",
    "d"
   ]
  },
  {
   "cell_type": "code",
   "execution_count": 14,
   "id": "psychological-market",
   "metadata": {},
   "outputs": [
    {
     "data": {
      "text/plain": [
       "(8, 1, 512, 512)"
      ]
     },
     "execution_count": 14,
     "metadata": {},
     "output_type": "execute_result"
    }
   ],
   "source": [
    "probs = np.load('/GPUFS/sysu_rxwang_1/defeng/backup4-DICE-UNet/probs.npy')\n",
    "probs.shape"
   ]
  },
  {
   "cell_type": "code",
   "execution_count": 16,
   "id": "female-embassy",
   "metadata": {},
   "outputs": [],
   "source": [
    "probs.sort(axis=0)"
   ]
  },
  {
   "cell_type": "code",
   "execution_count": 27,
   "id": "level-edgar",
   "metadata": {
    "scrolled": true
   },
   "outputs": [
    {
     "data": {
      "text/plain": [
       "tensor([[-1.5205, -0.1559,  0.2058],\n",
       "        [ 0.3902,  0.9185,  2.5421],\n",
       "        [ 0.0195, -0.4215, -1.1138],\n",
       "        [ 0.7582, -1.0176, -1.1639]])"
      ]
     },
     "execution_count": 27,
     "metadata": {},
     "output_type": "execute_result"
    }
   ],
   "source": [
    "import torch\n",
    "a = torch.randn((4,3))\n",
    "a"
   ]
  },
  {
   "cell_type": "code",
   "execution_count": 43,
   "id": "raising-warren",
   "metadata": {},
   "outputs": [
    {
     "data": {
      "text/plain": [
       "tensor([[[1, 0, 2],\n",
       "         [0, 1, 2]],\n",
       "\n",
       "        [[0, 2, 3],\n",
       "         [1, 0, 1]],\n",
       "\n",
       "        [[2, 1, 0],\n",
       "         [2, 3, 3]],\n",
       "\n",
       "        [[3, 3, 1],\n",
       "         [3, 2, 0]]])"
      ]
     },
     "execution_count": 43,
     "metadata": {},
     "output_type": "execute_result"
    }
   ],
   "source": [
    "test = torch.randn((4,2,3))\n",
    "sorted_tensor,sorted_index = test.sort(axis=0)\n",
    "sorted_index"
   ]
  },
  {
   "cell_type": "code",
   "execution_count": 32,
   "id": "accepting-wildlife",
   "metadata": {
    "scrolled": true
   },
   "outputs": [
    {
     "data": {
      "text/plain": [
       "(tensor([[-1.5205, -1.0176, -1.1639],\n",
       "         [ 0.0195, -0.4215, -1.1138],\n",
       "         [ 0.3902, -0.1559,  0.2058],\n",
       "         [ 0.7582,  0.9185,  2.5421]]),\n",
       " tensor([[0, 3, 3],\n",
       "         [2, 2, 2],\n",
       "         [1, 0, 0],\n",
       "         [3, 1, 1]]))"
      ]
     },
     "execution_count": 32,
     "metadata": {},
     "output_type": "execute_result"
    }
   ],
   "source": [
    "sorted_tensor,sorted_index = a.sort(axis=0)\n",
    "sorted_tensor,sorted_index"
   ]
  },
  {
   "cell_type": "code",
   "execution_count": 42,
   "id": "amino-header",
   "metadata": {},
   "outputs": [
    {
     "data": {
      "text/plain": [
       "(tensor([[-1.5205, -0.1559,  0.2058],\n",
       "         [ 0.3902,  0.9185,  2.5421],\n",
       "         [-1.1138, -0.4215,  0.0195],\n",
       "         [-1.1639, -1.0176,  0.7582]]),\n",
       " tensor([[0, 1, 2],\n",
       "         [0, 1, 2],\n",
       "         [2, 1, 0],\n",
       "         [2, 1, 0]]))"
      ]
     },
     "execution_count": 42,
     "metadata": {},
     "output_type": "execute_result"
    }
   ],
   "source": [
    "sorted_tensor,sorted_index = a.sort(axis=1)\n",
    "sorted_tensor,sorted_index"
   ]
  },
  {
   "cell_type": "code",
   "execution_count": 34,
   "id": "technological-greensboro",
   "metadata": {},
   "outputs": [
    {
     "data": {
      "text/plain": [
       "array([[-0.20514859, -0.82950229, -1.54462652],\n",
       "       [-1.33997226, -0.6520511 , -0.47617723],\n",
       "       [ 1.16392028,  1.11151317,  0.29175784],\n",
       "       [-1.45206545,  0.1465196 , -0.60927089]])"
      ]
     },
     "execution_count": 34,
     "metadata": {},
     "output_type": "execute_result"
    }
   ],
   "source": [
    "import numpy as np \n",
    "b = np.random.randn(4,3)\n",
    "b "
   ]
  },
  {
   "cell_type": "code",
   "execution_count": 40,
   "id": "mental-timeline",
   "metadata": {},
   "outputs": [
    {
     "data": {
      "text/plain": [
       "array([[-1.45206545, -0.82950229, -1.54462652],\n",
       "       [-1.33997226, -0.6520511 , -0.60927089],\n",
       "       [-0.20514859,  0.1465196 , -0.47617723],\n",
       "       [ 1.16392028,  1.11151317,  0.29175784]])"
      ]
     },
     "execution_count": 40,
     "metadata": {},
     "output_type": "execute_result"
    }
   ],
   "source": [
    "b.sort(axis=0)\n",
    "b"
   ]
  },
  {
   "cell_type": "code",
   "execution_count": 41,
   "id": "initial-female",
   "metadata": {},
   "outputs": [
    {
     "data": {
      "text/plain": [
       "(array([[-0.093291  , -1.99267183],\n",
       "        [ 1.30498286, -1.39662903],\n",
       "        [ 1.98327035,  0.39252396]]),\n",
       " tensor([[-0.0933, -1.9927],\n",
       "         [ 1.3050, -1.3966],\n",
       "         [ 1.9833,  0.3925]], dtype=torch.float64))"
      ]
     },
     "execution_count": 41,
     "metadata": {},
     "output_type": "execute_result"
    }
   ],
   "source": [
    "c = np.random.randn(3,2)\n",
    "c_torch = torch.from_numpy(c)\n",
    "\n",
    "c.sort(axis=0)\n",
    "\n",
    "c,c_torch.sort(axis=0)[0]"
   ]
  },
  {
   "cell_type": "markdown",
   "id": "liked-marketing",
   "metadata": {},
   "source": [
    "# DICE+FOCAL LOSS"
   ]
  },
  {
   "cell_type": "markdown",
   "id": "alien-ocean",
   "metadata": {},
   "source": [
    "<mark>下面的代码是错误的❌，正确的代码见dice_loss.ipynb</mark>"
   ]
  },
  {
   "attachments": {
    "image.png": {
     "image/png": "[encoded data removed]"
    }
   },
   "cell_type": "markdown",
   "id": "approximate-employer",
   "metadata": {},
   "source": [
    "![image.png](attachment:image.png)"
   ]
  },
  {
   "cell_type": "code",
   "execution_count": 9,
   "id": "chief-spank",
   "metadata": {},
   "outputs": [],
   "source": [
    "probs = np.load('./probs.npy')\n",
    "#probs = probs.transpose(0,3,1,2)\n",
    "probs = torch.from_numpy(probs)\n",
    "probs.requires_grad = True"
   ]
  },
  {
   "cell_type": "code",
   "execution_count": 10,
   "id": "opponent-chancellor",
   "metadata": {},
   "outputs": [],
   "source": [
    "true_mask = torch.randint(0,2,probs.shape,dtype=torch.float32,requires_grad=True)"
   ]
  },
  {
   "cell_type": "code",
   "execution_count": 7,
   "id": "derived-thought",
   "metadata": {},
   "outputs": [],
   "source": [
    "pred = probs>0.5"
   ]
  },
  {
   "cell_type": "code",
   "execution_count": 8,
   "id": "initial-chart",
   "metadata": {},
   "outputs": [],
   "source": [
    "num_classes = 2 #2 includes background\n",
    "classes_points = []\n",
    "\n",
    "for i in range(num_classes):\n",
    "    classes_points.append(pred==i)"
   ]
  },
  {
   "cell_type": "code",
   "execution_count": 223,
   "id": "breathing-winning",
   "metadata": {},
   "outputs": [],
   "source": [
    "TP = torch.zeros((num_classes,probs.shape[0]),dtype=torch.float32)\n",
    "FP = torch.zeros((num_classes,probs.shape[0]),dtype=torch.float32)\n",
    "FN = torch.zeros((num_classes,probs.shape[0]),dtype=torch.float32)"
   ]
  },
  {
   "cell_type": "code",
   "execution_count": 224,
   "id": "verified-series",
   "metadata": {},
   "outputs": [],
   "source": [
    "for i in range(num_classes):\n",
    "    TP[i] = ((true_mask*probs)*classes_points[i]).sum(axis=(1,2,3))\n",
    "    FN[i] = ((true_mask*(1.0-probs))*classes_points[i]).sum(axis=(1,2,3))\n",
    "    FP[i] = (((1.0-true_mask)*probs)*classes_points[i]).sum(axis=(1,2,3))"
   ]
  },
  {
   "cell_type": "code",
   "execution_count": 225,
   "id": "prescribed-gnome",
   "metadata": {},
   "outputs": [
    {
     "data": {
      "text/plain": [
       "(tensor([[33371.2930, 33512.5742, 33726.1211, 34226.5469, 33598.1719, 33896.4102,\n",
       "          33506.8242, 33285.5312],\n",
       "         [ 1742.9943,  1125.8137,   351.3155,   632.7398,  1130.0732,   967.6789,\n",
       "           1548.3789,  1843.3257]], grad_fn=<CopySlices>),\n",
       " tensor([[33398.7344, 33764.6758, 33756.8594, 33990.7539, 33657.3047, 33972.7188,\n",
       "          33602.2383, 33476.4375],\n",
       "         [ 1707.4255,  1110.6901,   354.6981,   662.2122,  1102.6460,   933.7745,\n",
       "           1610.3724,  1760.8536]], grad_fn=<CopySlices>),\n",
       " tensor([[94956.6875, 95207.3594, 96700.8203, 96236.4297, 95571.8281, 95467.6094,\n",
       "          94972.1484, 94630.4688],\n",
       "         [ 1038.0059,   692.1862,   206.6845,   373.2602,   668.9267,   581.3210,\n",
       "            900.6210,  1056.6743]], grad_fn=<CopySlices>))"
      ]
     },
     "execution_count": 225,
     "metadata": {},
     "output_type": "execute_result"
    }
   ],
   "source": [
    "TP,FP,FN"
   ]
  },
  {
   "cell_type": "code",
   "execution_count": 226,
   "id": "nuclear-cabinet",
   "metadata": {},
   "outputs": [],
   "source": [
    "alpha = beta = 0.5\n",
    "lamb = 0.5\n",
    "\n",
    "loss_dice = num_classes - (TP / (TP+alpha*FN+beta*FP)).sum(axis=0)\n",
    "loss_focal = ((((true_mask-probs)**2)*torch.log(probs)).mean(axis=(1,2,3))) * lamb"
   ]
  },
  {
   "cell_type": "code",
   "execution_count": 201,
   "id": "imposed-infrared",
   "metadata": {},
   "outputs": [
    {
     "data": {
      "text/plain": [
       "tensor([True, True, True, True, True, True, True, True])"
      ]
     },
     "execution_count": 201,
     "metadata": {},
     "output_type": "execute_result"
    }
   ],
   "source": [
    "((((true_mask-probs)**2)*torch.log(probs)).sum(axis=(1,2,3))) / (probs.shape[2]*probs.shape[3]) == ((((true_mask-probs)**2)*torch.log(probs)).mean(axis=(1,2,3)))"
   ]
  },
  {
   "cell_type": "code",
   "execution_count": 227,
   "id": "binary-portfolio",
   "metadata": {},
   "outputs": [],
   "source": [
    "loss = (loss_dice.mean()-loss_focal.mean())"
   ]
  },
  {
   "cell_type": "code",
   "execution_count": 3,
   "id": "anonymous-bathroom",
   "metadata": {},
   "outputs": [],
   "source": [
    "def DICEandfocalLoss(probs,true_mask,device,num_classes=2):\n",
    "\t\n",
    "\tpred = probs>0.5\n",
    "\tclasses_points = []\n",
    "\tfor i in range(num_classes):\n",
    "\t\tclasses_points.append(pred==i)\n",
    "\n",
    "\t\n",
    "\tTP = torch.zeros((num_classes),dtype=torch.float32).to(device)\n",
    "\tFP = torch.zeros((num_classes),dtype=torch.float32).to(device)\n",
    "\tFN = torch.zeros((num_classes),dtype=torch.float32).to(device)\n",
    "\n",
    "\tfor i in range(num_classes):\n",
    "\t\tTP[i] = (probs[:,i] * true_mask[:,i]).sum(axis=(1,2)).mean()\n",
    "\t\tFN[i] = ((1.0-probs[:,i]) * true_mask[:,i]).sum(axis=(1,2)).mean()\n",
    "\t\tFP[i] = (probs[:,i] * (1-true_mask[:,i])).sum(axis=(1,2)).mean()\n",
    "\t\t\n",
    "\t\n",
    "\talpha = beta = 0.5\n",
    "\tlamb = 0.5\n",
    "\n",
    "\tloss_dice = num_classes - (TP / (TP+alpha*FN+beta*FP)).sum()\n",
    "\tloss_focal = loss_focal = ((((true_mask-probs)**2)*torch.log(probs)).mean(axis=(1,2,3))) * lamb\n",
    "\t\n",
    "\tloss = loss_dice.mean()-loss_focal.mean()\n",
    "\t\n",
    "\treturn loss"
   ]
  },
  {
   "cell_type": "code",
   "execution_count": 12,
   "id": "indirect-pakistan",
   "metadata": {},
   "outputs": [],
   "source": [
    "if torch.cuda.is_available():\n",
    "    device = torch.device('cuda:0')\n",
    "else:\n",
    "    device = torch.device('cpu')\n",
    "    \n",
    "probs = probs.to(device)\n",
    "true_mask = true_mask.to(device)"
   ]
  },
  {
   "cell_type": "code",
   "execution_count": 16,
   "id": "orange-progressive",
   "metadata": {},
   "outputs": [],
   "source": [
    "loss = DICEandfocalLoss(probs,true_mask,device)"
   ]
  },
  {
   "cell_type": "code",
   "execution_count": 17,
   "id": "recorded-thing",
   "metadata": {},
   "outputs": [],
   "source": [
    "loss.backward()"
   ]
  }
 ],
 "metadata": {
  "kernelspec": {
   "display_name": "Python [conda env:torch] *",
   "language": "python",
   "name": "conda-env-torch-py"
  },
  "language_info": {
   "codemirror_mode": {
    "name": "ipython",
    "version": 3
   },
   "file_extension": ".py",
   "mimetype": "text/x-python",
   "name": "python",
   "nbconvert_exporter": "python",
   "pygments_lexer": "ipython3",
   "version": "3.7.9"
  },
  "toc": {
   "base_numbering": 1,
   "nav_menu": {},
   "number_sections": true,
   "sideBar": true,
   "skip_h1_title": false,
   "title_cell": "Table of Contents",
   "title_sidebar": "Contents",
   "toc_cell": false,
   "toc_position": {},
   "toc_section_display": true,
   "toc_window_display": false
  },
  "varInspector": {
   "cols": {
    "lenName": 16,
    "lenType": 16,
    "lenVar": 40
   },
   "kernels_config": {
    "python": {
     "delete_cmd_postfix": "",
     "delete_cmd_prefix": "del ",
     "library": "var_list.py",
     "varRefreshCmd": "print(var_dic_list())"
    },
    "r": {
     "delete_cmd_postfix": ") ",
     "delete_cmd_prefix": "rm(",
     "library": "var_list.r",
     "varRefreshCmd": "cat(var_dic_list()) "
    }
   },
   "types_to_exclude": [
    "module",
    "function",
    "builtin_function_or_method",
    "instance",
    "_Feature"
   ],
   "window_display": false
  }
 },
 "nbformat": 4,
 "nbformat_minor": 5
}
