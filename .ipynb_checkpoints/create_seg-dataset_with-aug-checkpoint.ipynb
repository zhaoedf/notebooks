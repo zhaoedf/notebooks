{
 "cells": [
  {
   "cell_type": "code",
   "execution_count": 188,
   "metadata": {},
   "outputs": [],
   "source": [
    "import cv2\n",
    "import numpy as np"
   ]
  },
  {
   "cell_type": "code",
   "execution_count": 189,
   "metadata": {},
   "outputs": [],
   "source": [
    "import matplotlib.pyplot as plt"
   ]
  },
  {
   "cell_type": "code",
   "execution_count": 190,
   "metadata": {},
   "outputs": [],
   "source": [
    "import os\n",
    "import json "
   ]
  },
  {
   "cell_type": "markdown",
   "metadata": {},
   "source": [
    "====================================================="
   ]
  },
  {
   "cell_type": "markdown",
   "metadata": {},
   "source": [
    "## 基本配置"
   ]
  },
  {
   "cell_type": "code",
   "execution_count": 191,
   "metadata": {},
   "outputs": [
    {
     "name": "stdout",
     "output_type": "stream",
     "text": [
      "deleting... Done!\n"
     ]
    }
   ],
   "source": [
    "dataset_path = '../pancreas/backup1-seg-dataset/'\n",
    "new_dataset_path = '../pancreas/tumor-seg-dataset/'\n",
    "\n",
    "if os.path.exists(new_dataset_path):\n",
    "    import shutil\n",
    "    shutil.rmtree(new_dataset_path, ignore_errors=True)\n",
    "    print(\"deleting... Done!\")\n",
    "    \n",
    "os.mkdir(new_dataset_path)\n",
    "os.mkdir(os.path.join(new_dataset_path,'imgs'))\n",
    "os.mkdir(os.path.join(new_dataset_path,'masks'))"
   ]
  },
  {
   "cell_type": "code",
   "execution_count": 192,
   "metadata": {},
   "outputs": [
    {
     "data": {
      "text/plain": [
       "['AILIKEMU_AP_1.CT.0003.0023.2018.01.06.08.58.26.453125.106165917',\n",
       " 'AILIKEMU_AP_1.CT.0003.0033.2018.01.06.08.58.26.453125.106166368',\n",
       " 'AILIKEMU_AP_1.CT.0003.0029.2018.01.06.08.58.26.453125.106166188',\n",
       " 'AILIKEMU_AP_1.CT.0003.0022.2018.01.06.08.58.26.453125.106165872',\n",
       " 'AILIKEMU_AP_1.CT.0003.0032.2018.01.06.08.58.26.453125.106166323',\n",
       " 'AILIKEMU_AP_1.CT.0003.0024.2018.01.06.08.58.26.453125.106165962',\n",
       " 'AILIKEMU_AP_1.CT.0003.0028.2018.01.06.08.58.26.453125.106166143',\n",
       " 'AILIKEMU_AP_1.CT.0003.0034.2018.01.06.08.58.26.453125.106166413',\n",
       " 'AILIKEMU_AP_1.CT.0003.0031.2018.01.06.08.58.26.453125.106166278',\n",
       " 'AILIKEMU_AP_1.CT.0003.0030.2018.01.06.08.58.26.453125.106166233',\n",
       " 'AILIKEMU_AP_1.CT.0003.0026.2018.01.06.08.58.26.453125.106166053',\n",
       " 'AILIKEMU_AP_1.CT.0003.0027.2018.01.06.08.58.26.453125.106166098',\n",
       " 'AILIKEMU_AP_1.CT.0003.0025.2018.01.06.08.58.26.453125.106166008']"
      ]
     },
     "execution_count": 192,
     "metadata": {},
     "output_type": "execute_result"
    }
   ],
   "source": [
    "img_names = [name[:-5] for name in os.listdir(os.path.join(dataset_path,'tumor'))]\n",
    "img_names"
   ]
  },
  {
   "cell_type": "code",
   "execution_count": 29,
   "metadata": {},
   "outputs": [],
   "source": [
    "# imgs_path = os.path.join(dataset_path,'imgs')\n",
    "# names = [name[:-4] for name in os.listdir(imgs_path)]\n",
    "\n",
    "# command = 'rm -f '\n",
    "# for name in names:\n",
    "#     #print(name)\n",
    "#     if name not in img_names:\n",
    "#         print('deleting: ',name)\n",
    "#         os.popen(command + os.path.join(imgs_path,name)+'.jpg')"
   ]
  },
  {
   "cell_type": "markdown",
   "metadata": {},
   "source": [
    "## 从labelme的json中制作mask并生成数据集"
   ]
  },
  {
   "cell_type": "markdown",
   "metadata": {},
   "source": [
    "<b>最后用于训练的数据集中，index和原来文件名的对应关系<br>\n",
    "    json_names数组依次对应index:0~13"
   ]
  },
  {
   "cell_type": "code",
   "execution_count": 193,
   "metadata": {
    "scrolled": true
   },
   "outputs": [
    {
     "data": {
      "text/plain": [
       "(['AILIKEMU_AP_1.CT.0003.0023.2018.01.06.08.58.26.453125.106165917.json',\n",
       "  'AILIKEMU_AP_1.CT.0003.0033.2018.01.06.08.58.26.453125.106166368.json',\n",
       "  'AILIKEMU_AP_1.CT.0003.0029.2018.01.06.08.58.26.453125.106166188.json',\n",
       "  'AILIKEMU_AP_1.CT.0003.0022.2018.01.06.08.58.26.453125.106165872.json',\n",
       "  'AILIKEMU_AP_1.CT.0003.0032.2018.01.06.08.58.26.453125.106166323.json',\n",
       "  'AILIKEMU_AP_1.CT.0003.0024.2018.01.06.08.58.26.453125.106165962.json',\n",
       "  'AILIKEMU_AP_1.CT.0003.0028.2018.01.06.08.58.26.453125.106166143.json',\n",
       "  'AILIKEMU_AP_1.CT.0003.0034.2018.01.06.08.58.26.453125.106166413.json',\n",
       "  'AILIKEMU_AP_1.CT.0003.0031.2018.01.06.08.58.26.453125.106166278.json',\n",
       "  'AILIKEMU_AP_1.CT.0003.0030.2018.01.06.08.58.26.453125.106166233.json',\n",
       "  'AILIKEMU_AP_1.CT.0003.0026.2018.01.06.08.58.26.453125.106166053.json',\n",
       "  'AILIKEMU_AP_1.CT.0003.0027.2018.01.06.08.58.26.453125.106166098.json',\n",
       "  'AILIKEMU_AP_1.CT.0003.0025.2018.01.06.08.58.26.453125.106166008.json'],\n",
       " '~~~',\n",
       " '0-12')"
      ]
     },
     "execution_count": 193,
     "metadata": {},
     "output_type": "execute_result"
    }
   ],
   "source": [
    "json_path = os.path.join(dataset_path,'tumor')\n",
    "json_names = os.listdir(json_path)\n",
    "json_names,'~~~','0-%d'%(len(json_names)-1)"
   ]
  },
  {
   "cell_type": "markdown",
   "metadata": {},
   "source": [
    "<b>而index和训练顺序的关系为 nm\n",
    "   "
   ]
  },
  {
   "cell_type": "code",
   "execution_count": 194,
   "metadata": {},
   "outputs": [],
   "source": [
    "#os.listdir('../pancreas/backup1-seg-dataset/imgs/')"
   ]
  },
  {
   "cell_type": "code",
   "execution_count": 195,
   "metadata": {
    "scrolled": true
   },
   "outputs": [
    {
     "name": "stdout",
     "output_type": "stream",
     "text": [
      "mask: 0\n",
      "AILIKEMU_AP_1.CT.0003.0023.2018.01.06.08.58.26.453125.106165917.json\n",
      "mask: 0\n",
      "AILIKEMU_AP_1.CT.0003.0033.2018.01.06.08.58.26.453125.106166368.json\n",
      "mask: 1\n",
      "AILIKEMU_AP_1.CT.0003.0033.2018.01.06.08.58.26.453125.106166368.json\n",
      "mask: 0\n",
      "AILIKEMU_AP_1.CT.0003.0029.2018.01.06.08.58.26.453125.106166188.json\n",
      "mask: 0\n",
      "AILIKEMU_AP_1.CT.0003.0022.2018.01.06.08.58.26.453125.106165872.json\n",
      "mask: 0\n",
      "AILIKEMU_AP_1.CT.0003.0032.2018.01.06.08.58.26.453125.106166323.json\n",
      "mask: 0\n",
      "AILIKEMU_AP_1.CT.0003.0024.2018.01.06.08.58.26.453125.106165962.json\n",
      "mask: 0\n",
      "AILIKEMU_AP_1.CT.0003.0028.2018.01.06.08.58.26.453125.106166143.json\n",
      "mask: 0\n",
      "AILIKEMU_AP_1.CT.0003.0034.2018.01.06.08.58.26.453125.106166413.json\n",
      "mask: 0\n",
      "AILIKEMU_AP_1.CT.0003.0031.2018.01.06.08.58.26.453125.106166278.json\n",
      "mask: 0\n",
      "AILIKEMU_AP_1.CT.0003.0030.2018.01.06.08.58.26.453125.106166233.json\n",
      "mask: 0\n",
      "AILIKEMU_AP_1.CT.0003.0026.2018.01.06.08.58.26.453125.106166053.json\n",
      "mask: 0\n",
      "AILIKEMU_AP_1.CT.0003.0027.2018.01.06.08.58.26.453125.106166098.json\n",
      "mask: 0\n",
      "AILIKEMU_AP_1.CT.0003.0025.2018.01.06.08.58.26.453125.106166008.json\n"
     ]
    }
   ],
   "source": [
    "# https://blog.csdn.net/weixin_39975744/article/details/111515090\n",
    "imgs_path = os.path.join(dataset_path,'imgs')\n",
    "json_path = os.path.join(dataset_path,'tumor')\n",
    "json_names = os.listdir(json_path)\n",
    "\n",
    "index = 0\n",
    "for name in json_names:\n",
    "    with open(os.path.join(json_path,name), \"r\") as f:\n",
    "        label = json.load(f)\n",
    "        img = cv2.imread(os.path.join(imgs_path,name[:-5]+'.jpg'),0)\n",
    "        img[0:33,0:245] = 0\n",
    "        h, w = img.shape[:2]\n",
    "        \n",
    "        shapes = label[\"shapes\"]\n",
    "        mask = np.zeros([h, w, 1], np.uint8) # 创建一个大小和原图相同的空白图像\n",
    "        for i,shape in enumerate(shapes):\n",
    "            '''\n",
    "                就应该一个json的所有区域 一起 作为一个mask，\n",
    "                因为它们可能都是标注，只是不连通而已。\n",
    "            '''\n",
    "            print('mask: %d' %i)\n",
    "            print(name)\n",
    "            \n",
    "            category = shape[\"label\"]\n",
    "\n",
    "            points = shape[\"points\"]\n",
    "            points_array = np.array(points, dtype=np.int32)\n",
    "            mask = cv2.fillPoly(mask, [points_array], 255) #category_types.index(category)\n",
    "            \n",
    "            #print(mask.shape,img.shape)\n",
    "        cv2.imwrite(os.path.join(os.path.join(new_dataset_path,'imgs'),str(index)+'.jpg'),img)\n",
    "        cv2.imwrite(os.path.join(os.path.join(new_dataset_path,'masks'),str(index)+'_mask'+'.jpg'),mask)\n",
    "        index+=1\n",
    "            #plt.imshow(mask,cmap='gray')"
   ]
  },
  {
   "cell_type": "code",
   "execution_count": 196,
   "metadata": {
    "scrolled": true
   },
   "outputs": [],
   "source": [
    "# 移动生成的数据集到所有UNet代码目录(即移动到各个衍生目录)\n",
    "import glob\n",
    "UNet_path = glob.glob('/GPUFS/sysu_rxwang_1/defeng/*UNet*')\n",
    "\n",
    "for path in UNet_path:\n",
    "    if os.path.exists(os.path.join(path,'data','imgs')):\n",
    "        import shutil\n",
    "        shutil.rmtree(os.path.join(path,'data','imgs'), ignore_errors=True)\n",
    "        print(\"deleting... Done!\")\n",
    "\n",
    "    if os.path.exists(os.path.join(path,'data','masks')):\n",
    "        import shutil\n",
    "        shutil.rmtree(os.path.join(path,'data','masks'), ignore_errors=True)\n",
    "        print(\"deleting... Done!\")\n",
    "        \n",
    "# for path in UNet_path:\n",
    "#     if os.path.exists(os.path.join(path,'imgs')):\n",
    "#         import shutil\n",
    "#         shutil.rmtree(os.path.join(path,'imgs'), ignore_errors=True)\n",
    "#         print(\"deleting... Done!\")\n",
    "\n",
    "#     if os.path.exists(os.path.join(path,'masks')):\n",
    "#         import shutil\n",
    "#         shutil.rmtree(os.path.join(path,'masks'), ignore_errors=True)\n",
    "#         print(\"deleting... Done!\")\n",
    "\n",
    "\n",
    "    os.popen('cp -r %s %s'%(os.path.join(new_dataset_path,'imgs'),os.path.join(path,'data','imgs')))\n",
    "    os.popen('cp -r %s %s'%(os.path.join(new_dataset_path,'masks'),os.path.join(path,'data','masks')))"
   ]
  },
  {
   "cell_type": "code",
   "execution_count": 197,
   "metadata": {
    "scrolled": false
   },
   "outputs": [
    {
     "data": {
      "text/plain": [
       "[]"
      ]
     },
     "execution_count": 197,
     "metadata": {},
     "output_type": "execute_result"
    }
   ],
   "source": [
    "import glob\n",
    "\n",
    "glob.glob('/GPUFS/sysu_rxwang_1/defeng/*UNet*')"
   ]
  },
  {
   "cell_type": "markdown",
   "metadata": {},
   "source": [
    "## 对2得到的数据集进行data augmentation(elastic&affine)"
   ]
  },
  {
   "cell_type": "code",
   "execution_count": 198,
   "metadata": {},
   "outputs": [],
   "source": [
    "def affine_transform(image, alpha_affine=10, random_state=None):\n",
    "    if random_state is None:\n",
    "        random_state = np.random.RandomState(None)\n",
    "\n",
    "    shape = image.shape\n",
    "    shape_size = shape[:2]\n",
    "\n",
    "    center_square = np.float32(shape_size) // 2\n",
    "    square_size = min(shape_size) // 3\n",
    "    pts1 = np.float32([  #以图片中心为原点，长度为min(shape_size)//3 采集了3个采样点。\n",
    "        center_square + square_size,  \n",
    "        [center_square[0] + square_size, center_square[1] - square_size],\n",
    "        center_square - square_size])\n",
    "    #print(pts1)\n",
    "    pts2 = pts1 + random_state.uniform(-alpha_affine, alpha_affine, size=pts1.shape).astype(np.float32)\n",
    "\n",
    "    M = cv2.getAffineTransform(pts1, pts2)\n",
    "    distorted_image = cv2.warpAffine(\n",
    "        image, M, shape_size[::-1], borderMode=cv2.BORDER_REPLICATE) #cv2.BORDER_REPLICATE / cv2.BORDER_REFLECT_101)\n",
    "\n",
    "    return distorted_image"
   ]
  },
  {
   "cell_type": "code",
   "execution_count": 199,
   "metadata": {},
   "outputs": [],
   "source": [
    "from scipy.ndimage.interpolation import map_coordinates\n",
    "from scipy.ndimage.filters import gaussian_filter\n",
    "\n",
    "def elastic_transform(image, alpha, sigma, affine_flag=False,alpha_affine=10, random_state=None):\n",
    "    \"\"\"Elastic deformation of images as described in [Simard2003]_ (with modifications).\n",
    "    .. [Simard2003] Simard, Steinkraus and Platt, \"Best Practices for\n",
    "         Convolutional Neural Networks applied to Visual Document Analysis\", in\n",
    "         Proc. of the International Conference on Document Analysis and\n",
    "         Recognition, 2003.\n",
    "\n",
    "     Based on https://gist.github.com/erniejunior/601cdf56d2b424757de5\n",
    "    \"\"\"\n",
    "    if random_state is None:\n",
    "        random_state = np.random.RandomState(None)\n",
    "\n",
    "    shape = image.shape\n",
    "    shape_size = shape[:2]\n",
    "    \n",
    "    # Random affine\n",
    "#     if affine_flag:\n",
    "#         center_square = np.float32(shape_size) // 2\n",
    "#         square_size = min(shape_size) // 3\n",
    "#         pts1 = np.float32([center_square + square_size, [center_square[0]+square_size, center_square[1]-square_size], center_square - square_size])\n",
    "#         pts2 = pts1 + random_state.uniform(-alpha_affine, alpha_affine, size=pts1.shape).astype(np.float32)\n",
    "#         M = cv2.getAffineTransform(pts1, pts2)\n",
    "#         image = cv2.warpAffine(image, M, shape_size[::-1], borderMode=cv2.BORDER_REFLECT_101)\n",
    "\n",
    "    dx = gaussian_filter((random_state.rand(*shape) * 2 - 1), sigma) * alpha\n",
    "    dy = gaussian_filter((random_state.rand(*shape) * 2 - 1), sigma) * alpha\n",
    "    dz = np.zeros_like(dx)\n",
    "\n",
    "    x, y, z = np.meshgrid(np.arange(shape[1]), np.arange(shape[0]), np.arange(shape[2]))\n",
    "    indices = np.reshape(y+dy, (-1, 1)), np.reshape(x+dx, (-1, 1)), np.reshape(z, (-1, 1))\n",
    "\n",
    "    return map_coordinates(image, indices, order=1, mode='reflect').reshape(shape)"
   ]
  },
  {
   "cell_type": "code",
   "execution_count": 200,
   "metadata": {},
   "outputs": [
    {
     "name": "stdout",
     "output_type": "stream",
     "text": [
      "deleting... Done!\n"
     ]
    },
    {
     "data": {
      "text/plain": [
       "<os._wrap_close at 0x7ff78810ad50>"
      ]
     },
     "execution_count": 200,
     "metadata": {},
     "output_type": "execute_result"
    }
   ],
   "source": [
    "aug_dataset_path = '../pancreas/aug-tumor-seg-dataset/'\n",
    "\n",
    "if os.path.exists(aug_dataset_path):\n",
    "    import shutil\n",
    "    shutil.rmtree(aug_dataset_path, ignore_errors=True)\n",
    "    print(\"deleting... Done!\")\n",
    "    \n",
    "os.mkdir(aug_dataset_path)\n",
    "os.mkdir(os.path.join(aug_dataset_path,'imgs'))\n",
    "os.mkdir(os.path.join(aug_dataset_path,'masks'))\n",
    "\n",
    "os.popen('cp -r %s %s'%(os.path.join(new_dataset_path,'imgs'),aug_dataset_path))\n",
    "os.popen('cp -r %s %s'%(os.path.join(new_dataset_path,'masks'),aug_dataset_path))"
   ]
  },
  {
   "cell_type": "code",
   "execution_count": 201,
   "metadata": {},
   "outputs": [],
   "source": [
    "import numpy as np \n",
    "\n",
    "img_path = os.path.join(aug_dataset_path,'imgs')\n",
    "mask_path = os.path.join(aug_dataset_path,'masks')\n",
    "\n",
    "for name in os.listdir(img_path):\n",
    "    img = cv2.imread(os.path.join(img_path,name))\n",
    "    mask = cv2.imread(os.path.join(mask_path,name[:-4]+'_mask.jpg'))\n",
    "    \n",
    "    rand_nums = np.random.randint(0,99,(2,))\n",
    "    \n",
    "    affine_transformed_img = affine_transform(img,img.shape[1] * 0.09,np.random.RandomState(rand_nums[0]))\n",
    "    affine_transformed_mask = affine_transform(mask,img.shape[1] * 0.09,np.random.RandomState(rand_nums[0]))\n",
    "    \n",
    "    elatic_transformed_img = elastic_transform(img,img.shape[1]*3,img.shape[1]*0.07,np.random.RandomState(rand_nums[1]))\n",
    "    elatic_transformed_mask = elastic_transform(mask,img.shape[1]*3,img.shape[1]*0.07,np.random.RandomState(rand_nums[1]))\n",
    "    \n",
    "    cv2.imwrite(os.path.join(img_path,name[:-4]+'a.jpg'),affine_transformed_img[...,0])\n",
    "    cv2.imwrite(os.path.join(mask_path,name[:-4]+'a_mask.jpg'),affine_transformed_mask[...,0])\n",
    "    \n",
    "    cv2.imwrite(os.path.join(img_path,name[:-4]+'e.jpg'),elatic_transformed_img[...,0])\n",
    "    cv2.imwrite(os.path.join(mask_path,name[:-4]+'e_mask.jpg'),elatic_transformed_mask[...,0])\n",
    "    \n",
    "    "
   ]
  },
  {
   "cell_type": "code",
   "execution_count": 202,
   "metadata": {},
   "outputs": [
    {
     "data": {
      "text/plain": [
       "39"
      ]
     },
     "execution_count": 202,
     "metadata": {},
     "output_type": "execute_result"
    }
   ],
   "source": [
    "len(os.listdir(img_path))"
   ]
  },
  {
   "cell_type": "code",
   "execution_count": 45,
   "metadata": {
    "scrolled": true
   },
   "outputs": [],
   "source": [
    "# 移动生成的数据集到所有UNet代码目录(即移动到各个衍生目录)\n",
    "import glob\n",
    "UNet_path = glob.glob('/GPUFS/sysu_rxwang_1/defeng/*UNet*')\n",
    "\n",
    "for path in UNet_path:\n",
    "    if os.path.exists(os.path.join(path,'data','imgs')):\n",
    "        import shutil\n",
    "        shutil.rmtree(os.path.join(path,'data','imgs'), ignore_errors=True)\n",
    "        print(\"deleting... Done!\")\n",
    "\n",
    "    if os.path.exists(os.path.join(path,'data','masks')):\n",
    "        import shutil\n",
    "        shutil.rmtree(os.path.join(path,'data','masks'), ignore_errors=True)\n",
    "        print(\"deleting... Done!\")\n",
    "        \n",
    "# for path in UNet_path:\n",
    "#     if os.path.exists(os.path.join(path,'imgs')):\n",
    "#         import shutil\n",
    "#         shutil.rmtree(os.path.join(path,'imgs'), ignore_errors=True)\n",
    "#         print(\"deleting... Done!\")\n",
    "\n",
    "#     if os.path.exists(os.path.join(path,'masks')):\n",
    "#         import shutil\n",
    "#         shutil.rmtree(os.path.join(path,'masks'), ignore_errors=True)\n",
    "#         print(\"deleting... Done!\")\n",
    "\n",
    "\n",
    "    os.popen('cp -r %s %s'%(os.path.join(aug_dataset_path,'imgs'),os.path.join(path,'data','imgs')))\n",
    "    os.popen('cp -r %s %s'%(os.path.join(aug_dataset_path,'masks'),os.path.join(path,'data','masks')))"
   ]
  },
  {
   "cell_type": "code",
   "execution_count": 62,
   "metadata": {},
   "outputs": [],
   "source": [
    "rand_nums = np.random.randint(0,99,(2,))\n",
    "a1 = np.random.RandomState(rand_nums[0])\n",
    "a2 = np.random.RandomState(rand_nums[0])"
   ]
  },
  {
   "cell_type": "code",
   "execution_count": 63,
   "metadata": {
    "scrolled": true
   },
   "outputs": [
    {
     "data": {
      "text/plain": [
       "(array([0.09310829]), array([0.09310829]), array([0.97165592]))"
      ]
     },
     "execution_count": 63,
     "metadata": {},
     "output_type": "execute_result"
    }
   ],
   "source": [
    "a2.rand(1),a1.rand(1),a1.rand(1)"
   ]
  },
  {
   "cell_type": "markdown",
   "metadata": {},
   "source": [
    "## 制作完全没有pancreas的数据集"
   ]
  },
  {
   "cell_type": "code",
   "execution_count": 203,
   "metadata": {},
   "outputs": [],
   "source": [
    "img_path = '../pancreas/backup1-seg-dataset/imgs/'\n",
    "tumor_path = '../pancreas/backup1-seg-dataset/tumor/'\n",
    "pancreas_path = '../pancreas/backup1-seg-dataset/pancreas/'\n",
    "# result_path = '/GPUFS/sysu_rxwang_1/defeng/pancreas/backup1-seg-dataset/results'"
   ]
  },
  {
   "cell_type": "code",
   "execution_count": 204,
   "metadata": {},
   "outputs": [
    {
     "name": "stdout",
     "output_type": "stream",
     "text": [
      "deleting... Done!\n"
     ]
    }
   ],
   "source": [
    "without_pancreas_dataset_path = '../pancreas/without-tumor-seg-dataset/'\n",
    "\n",
    "if os.path.exists(without_pancreas_dataset_path):\n",
    "    import shutil\n",
    "    shutil.rmtree(without_pancreas_dataset_path, ignore_errors=True)\n",
    "    print(\"deleting... Done!\")\n",
    "    \n",
    "os.mkdir(without_pancreas_dataset_path)\n",
    "os.mkdir(os.path.join(without_pancreas_dataset_path,'imgs'))\n",
    "os.mkdir(os.path.join(without_pancreas_dataset_path,'masks'))\n",
    "\n",
    "# os.popen('cp -r %s %s'%(os.path.join(new_dataset_path,'imgs'),without_pancreas_dataset_path))\n",
    "# os.popen('cp -r %s %s'%(os.path.join(new_dataset_path,'masks'),without_pancreas_dataset_path))"
   ]
  },
  {
   "cell_type": "code",
   "execution_count": 205,
   "metadata": {
    "scrolled": true
   },
   "outputs": [
    {
     "name": "stdout",
     "output_type": "stream",
     "text": [
      "44.882301330566406\n",
      "(512, 512, 512) (512, 512) (512, 512)\n",
      "44.733333587646484\n",
      "35.69512939453125\n",
      "(512, 512, 512) (512, 512) (512, 512)\n",
      "34.92687225341797\n",
      "41.60724639892578\n",
      "(512, 512, 512) (512, 512) (512, 512)\n",
      "38.43376541137695\n",
      "46.12549591064453\n",
      "(512, 512, 512) (512, 512) (512, 512)\n",
      "46.12549591064453\n",
      "37.39714431762695\n",
      "(512, 512, 512) (512, 512) (512, 512)\n",
      "36.54237747192383\n",
      "44.525909423828125\n",
      "(512, 512, 512) (512, 512) (512, 512)\n",
      "44.31172561645508\n",
      "41.91610336303711\n",
      "(512, 512, 512) (512, 512) (512, 512)\n",
      "39.49075698852539\n",
      "34.121490478515625\n",
      "(512, 512, 512) (512, 512) (512, 512)\n",
      "33.316551208496094\n",
      "39.14832305908203\n",
      "(512, 512, 512) (512, 512) (512, 512)\n",
      "37.52403259277344\n",
      "40.87907791137695\n",
      "(512, 512, 512) (512, 512) (512, 512)\n",
      "38.283687591552734\n",
      "41.847049713134766\n",
      "(512, 512, 512) (512, 512) (512, 512)\n",
      "40.39061737060547\n",
      "41.50886535644531\n",
      "(512, 512, 512) (512, 512) (512, 512)\n",
      "39.78419876098633\n",
      "43.04283905029297\n",
      "(512, 512, 512) (512, 512) (512, 512)\n",
      "42.374305725097656\n"
     ]
    }
   ],
   "source": [
    "tumor_names = [name[:-5] for name in os.listdir(tumor_path)]\n",
    "\n",
    "\n",
    "for index,name in enumerate(tumor_names):\n",
    "    img = cv2.imread(os.path.join(img_path,name+'.jpg'),0)\n",
    "    img[0:33,0:245] = 0\n",
    "    h,w = img.shape[:2]\n",
    "    \n",
    "    flag = 0\n",
    "    #color_mask = np.ones((*img.shape,3))\n",
    "    tumor_mask = np.zeros([h, w, 1], np.uint8)\n",
    "    pancreas_mask = np.zeros([h, w, 1], np.uint8)\n",
    "    if os.path.exists(os.path.join(tumor_path,name+'.json')):\n",
    "        #flag = 1\n",
    "        if os.path.exists(os.path.join(pancreas_path,name+'.json')):\n",
    "            flag = 1\n",
    "            with open(os.path.join(pancreas_path,name+'.json'), \"r\") as f:\n",
    "                annos = json.load(f)\n",
    "                shapes = annos['shapes']\n",
    "                for shape in shapes:\n",
    "                    label = shape['label']\n",
    "\n",
    "                    points = shape['points']\n",
    "                    points_array = np.array(points, dtype=np.int32)\n",
    "                    pancreas_mask = cv2.fillPoly(pancreas_mask, [points_array], 255)\n",
    "        with open(os.path.join(tumor_path,name+'.json'), \"r\") as f:\n",
    "            annos = json.load(f)\n",
    "            shapes = annos['shapes']\n",
    "            for shape in shapes:\n",
    "                label = shape['label']\n",
    "                \n",
    "                points = shape['points']\n",
    "                points_array = np.array(points, dtype=np.int32)\n",
    "                tumor_mask = cv2.fillPoly(tumor_mask, [points_array], 255)\n",
    "    \n",
    "#     pancreas_mask = np.where(pancreas_mask==255,1,0)\n",
    "#     tumor_mask = np.where(tumor_mask==255,1,0)\n",
    "#     intersect = pancreas_mask & tumor_mask\n",
    "#     pure_pancreas = pancreas_mask & (1-intersect)\n",
    "#     pure_pancreas = pure_pancreas.squeeze(axis=-1)\n",
    "#     print(pure_pancreas.shape)\n",
    "    \n",
    "    pure_pancreas1 = np.where(((pancreas_mask==255) & (tumor_mask==0)),1,0).squeeze(axis=-1)\n",
    "    \n",
    "    #print(pure_pancreas==pure_pancreas1) true\n",
    "    \n",
    "    print(img.mean())\n",
    "    img = img*(1-pure_pancreas1) #✔\n",
    "    #img[pure_pancreas1] = 0 #❌ 见5.test\n",
    "    print(img[pure_pancreas1].shape,img.shape,pure_pancreas1.shape)\n",
    "    print(img.mean())\n",
    "\n",
    "    #print(tumor_mask)\n",
    "    \n",
    "    \n",
    "#         if flag == 1:\n",
    "#             color_mask = cv2.addWeighted(color_mask1,1-alpha,color_mask2,alpha,0) #https://blog.csdn.net/zh_jessica/article/details/77992578\n",
    "#         else:\n",
    "#             print('img:%s(index:%d) has no pancreas'%(name,index))\n",
    "#             color_mask = color_mask2\n",
    "\n",
    "    #if flag == 0: continue\n",
    "\n",
    "    cv2.imwrite(os.path.join(without_pancreas_dataset_path,'imgs',str(index)+'.jpg'),img)\n",
    "    cv2.imwrite(os.path.join(without_pancreas_dataset_path,'masks',str(index)+'_mask'+'.jpg'),tumor_mask)"
   ]
  },
  {
   "cell_type": "markdown",
   "metadata": {},
   "source": [
    "## 对4得到的数据集进行data augmentation(elastic&affine)"
   ]
  },
  {
   "cell_type": "code",
   "execution_count": 206,
   "metadata": {
    "scrolled": true
   },
   "outputs": [
    {
     "name": "stdout",
     "output_type": "stream",
     "text": [
      "deleting... Done!\n"
     ]
    },
    {
     "data": {
      "text/plain": [
       "<os._wrap_close at 0x7ff788057590>"
      ]
     },
     "execution_count": 206,
     "metadata": {},
     "output_type": "execute_result"
    }
   ],
   "source": [
    "aug_dataset_path = '../pancreas/aug-without-tumor-seg-dataset/'\n",
    "\n",
    "if os.path.exists(aug_dataset_path):\n",
    "    import shutil\n",
    "    shutil.rmtree(aug_dataset_path, ignore_errors=True)\n",
    "    print(\"deleting... Done!\")\n",
    "    \n",
    "os.mkdir(aug_dataset_path)\n",
    "os.mkdir(os.path.join(aug_dataset_path,'imgs'))\n",
    "os.mkdir(os.path.join(aug_dataset_path,'masks'))\n",
    "\n",
    "os.popen('cp -r %s %s'%(os.path.join(without_pancreas_dataset_path,'imgs'),aug_dataset_path))\n",
    "os.popen('cp -r %s %s'%(os.path.join(without_pancreas_dataset_path,'masks'),aug_dataset_path))"
   ]
  },
  {
   "cell_type": "code",
   "execution_count": 207,
   "metadata": {},
   "outputs": [
    {
     "name": "stdout",
     "output_type": "stream",
     "text": [
      "(512, 3) (512, 512)\n",
      "(512, 3) (512, 512)\n",
      "(512, 3) (512, 512)\n",
      "(512, 3) (512, 512)\n",
      "(512, 3) (512, 512)\n",
      "(512, 3) (512, 512)\n",
      "(512, 3) (512, 512)\n",
      "(512, 3) (512, 512)\n",
      "(512, 3) (512, 512)\n",
      "(512, 3) (512, 512)\n",
      "(512, 3) (512, 512)\n",
      "(512, 3) (512, 512)\n",
      "(512, 3) (512, 512)\n"
     ]
    }
   ],
   "source": [
    "import numpy as np \n",
    "\n",
    "img_path = os.path.join(aug_dataset_path,'imgs')\n",
    "mask_path = os.path.join(aug_dataset_path,'masks')\n",
    "\n",
    "for name in os.listdir(img_path):\n",
    "    img = cv2.imread(os.path.join(img_path,name))\n",
    "    mask = cv2.imread(os.path.join(mask_path,name[:-4]+'_mask.jpg'))\n",
    "    \n",
    "    rand_nums = np.random.randint(0,99,(2,))\n",
    "    \n",
    "    affine_transformed_img = affine_transform(img,img.shape[1] * 0.09,np.random.RandomState(rand_nums[0]))\n",
    "    affine_transformed_mask = affine_transform(mask,img.shape[1] * 0.09,np.random.RandomState(rand_nums[0]))\n",
    "    \n",
    "    elatic_transformed_img = elastic_transform(img,img.shape[1]*3,img.shape[1]*0.07,np.random.RandomState(rand_nums[1]))\n",
    "    elatic_transformed_mask = elastic_transform(mask,img.shape[1]*3,img.shape[1]*0.07,np.random.RandomState(rand_nums[1]))\n",
    "    \n",
    "    print(affine_transformed_img[0].shape,elatic_transformed_img[...,0].shape)\n",
    "    cv2.imwrite(os.path.join(img_path,name[:-4]+'a.jpg'),affine_transformed_img[...,0])\n",
    "    cv2.imwrite(os.path.join(mask_path,name[:-4]+'a_mask.jpg'),affine_transformed_mask[...,0]) \n",
    "    \n",
    "    cv2.imwrite(os.path.join(img_path,name[:-4]+'e.jpg'),elatic_transformed_img[...,0])\n",
    "    cv2.imwrite(os.path.join(mask_path,name[:-4]+'e_mask.jpg'),elatic_transformed_mask[...,0])\n",
    "    \n",
    "    "
   ]
  },
  {
   "cell_type": "markdown",
   "metadata": {},
   "source": [
    "## 把aug后的数据集(with/out pancreas)移动到backup8的data目录中，并做好训练集、验证集和测试集的分类"
   ]
  },
  {
   "cell_type": "code",
   "execution_count": 348,
   "metadata": {},
   "outputs": [],
   "source": [
    "dir_with_pancreas_dataset = '../pancreas/aug-tumor-seg-dataset/'\n",
    "dir_without_pancreas_dataset = '../pancreas/aug-without-tumor-seg-dataset/'"
   ]
  },
  {
   "cell_type": "code",
   "execution_count": 349,
   "metadata": {},
   "outputs": [
    {
     "name": "stdout",
     "output_type": "stream",
     "text": [
      "deleting... Done!\n"
     ]
    }
   ],
   "source": [
    "# 创建文件夹\n",
    "data = '../backup8-ablation-UNet/data'\n",
    "With = '../backup8-ablation-UNet/data/with'\n",
    "without = '../backup8-ablation-UNet/data/without'\n",
    "\n",
    "if os.path.exists(data):\n",
    "    import shutil\n",
    "    shutil.rmtree(data, ignore_errors=True)\n",
    "    print(\"deleting... Done!\")\n",
    "os.mkdir(data)\n",
    "\n",
    "if os.path.exists(With):\n",
    "    import shutil\n",
    "    shutil.rmtree(With, ignore_errors=True)\n",
    "    print(\"deleting... Done!\")\n",
    "os.mkdir(With)\n",
    "os.mkdir(os.path.join(With,'train'))\n",
    "os.mkdir(os.path.join(With,'train','imgs'))\n",
    "os.mkdir(os.path.join(With,'train','masks'))\n",
    "os.mkdir(os.path.join(With,'val'))\n",
    "os.mkdir(os.path.join(With,'val','imgs'))\n",
    "os.mkdir(os.path.join(With,'val','masks'))\n",
    "os.mkdir(os.path.join(With,'test'))\n",
    "os.mkdir(os.path.join(With,'test','imgs'))\n",
    "os.mkdir(os.path.join(With,'test','masks'))\n",
    "\n",
    "if os.path.exists(without):\n",
    "    import shutil\n",
    "    shutil.rmtree(without, ignore_errors=True)\n",
    "    print(\"deleting... Done!\")\n",
    "os.mkdir(without)\n",
    "os.mkdir(os.path.join(without,'train'))\n",
    "os.mkdir(os.path.join(without,'train','imgs'))\n",
    "os.mkdir(os.path.join(without,'train','masks'))\n",
    "os.mkdir(os.path.join(without,'val'))\n",
    "os.mkdir(os.path.join(without,'val','imgs'))\n",
    "os.mkdir(os.path.join(without,'val','masks'))\n",
    "os.mkdir(os.path.join(without,'test'))\n",
    "os.mkdir(os.path.join(without,'test','imgs'))\n",
    "os.mkdir(os.path.join(without,'test','masks'))"
   ]
  },
  {
   "cell_type": "code",
   "execution_count": 350,
   "metadata": {
    "scrolled": true
   },
   "outputs": [
    {
     "name": "stdout",
     "output_type": "stream",
     "text": [
      "['9', '4', '3', '12', '8'] \n",
      "\n",
      "['3e', '5e', '9e', '7e', '12e'] \n",
      "\n",
      "['7a', '0a', '10a', '2a', '8a']\n"
     ]
    }
   ],
   "source": [
    "import glob\n",
    "\n",
    "original_img_names = glob.glob(os.path.join(dir_with_pancreas_dataset,'imgs','*[!ea].jpg'))\n",
    "original_img_names = [name.split('/')[-1][:-4] for name in original_img_names]\n",
    "elastic_img_names = glob.glob(os.path.join(dir_with_pancreas_dataset,'imgs','*e.jpg'))\n",
    "elastic_img_names = [name.split('/')[-1][:-4] for name in elastic_img_names]\n",
    "affine_img_names = glob.glob(os.path.join(dir_with_pancreas_dataset,'imgs','*a.jpg'))\n",
    "affine_img_names = [name.split('/')[-1][:-4] for name in affine_img_names]\n",
    "\n",
    "print(original_img_names[:5],'\\n')\n",
    "print(elastic_img_names[:5],'\\n')\n",
    "print(affine_img_names[:5])"
   ]
  },
  {
   "cell_type": "code",
   "execution_count": 351,
   "metadata": {
    "scrolled": true
   },
   "outputs": [
    {
     "data": {
      "text/plain": [
       "(13, 13)"
      ]
     },
     "execution_count": 351,
     "metadata": {},
     "output_type": "execute_result"
    }
   ],
   "source": [
    "len(original_img_names),len(elastic_img_names)"
   ]
  },
  {
   "cell_type": "code",
   "execution_count": 352,
   "metadata": {
    "scrolled": false
   },
   "outputs": [
    {
     "data": {
      "text/plain": [
       "(['1', '11', '7'],\n",
       " '**************************************************',\n",
       " ['9', '4e', '4a'],\n",
       " 9)"
      ]
     },
     "execution_count": 352,
     "metadata": {},
     "output_type": "execute_result"
    }
   ],
   "source": [
    "import random\n",
    "random.seed(8081)\n",
    "\n",
    "\n",
    "# 采样set-B and set-C\n",
    "original_sample = random.sample(original_img_names,4)\n",
    "aug_sample = random.sample(elastic_img_names,1) + random.sample(affine_img_names,1)\n",
    "for idx,name in enumerate(original_sample):\n",
    "    original_img_names.remove(name)\n",
    "    \n",
    "    #elastic_img_names.remove(name+'e')\n",
    "    #affine_img_names.remove(name+'a')\n",
    "    #add\n",
    "#     if idx != 3:\n",
    "#         elastic_img_names.remove(name+'e')\n",
    "#         affine_img_names.remove(name+'a')\n",
    "\n",
    "\n",
    "elastic_img_names.remove(aug_sample[0])\n",
    "# if aug_sample[0][0] in original_img_names:\n",
    "#     original_img_names.remove(aug_sample[0][0])\n",
    "# if aug_sample[0][0]+'e' in affine_img_names:\n",
    "#     affine_img_names.remove(aug_sample[0][0]+'a')\n",
    "\n",
    "affine_img_names.remove(aug_sample[1])\n",
    "# if aug_sample[1][0] in original_img_names:\n",
    "#     original_img_names.remove(aug_sample[1][0])\n",
    "# if aug_sample[1][0]+'e' in elastic_img_names:\n",
    "#     elastic_img_names.remove(aug_sample[1][0]+'e')\n",
    "    \n",
    "\n",
    "B = original_sample[:3]\n",
    "#B = [name.split('/')[-1][:-4] for name in B]\n",
    "C = [original_sample[-1]] + aug_sample\n",
    "#C = [name.split('/')[-1][:-4] for name in C]\n",
    "\n",
    "B,'*'*50,C,len(original_img_names)"
   ]
  },
  {
   "cell_type": "code",
   "execution_count": 353,
   "metadata": {},
   "outputs": [],
   "source": [
    "suffix = '_mask'\n",
    "jpg = '.jpg'\n",
    "\n",
    "# 移动val\n",
    "# val1 = \n",
    "# val2 = \n",
    "for name in B:\n",
    "    #with - imgs\n",
    "    src_path_with = os.path.join(dir_with_pancreas_dataset,'imgs',name+jpg)\n",
    "    dst_path_with = os.path.join(With,'test','imgs',name+jpg)\n",
    "    os.popen('cp %s %s'%(src_path_with,dst_path_with))\n",
    "    #with - masks\n",
    "    src_path_with = os.path.join(dir_with_pancreas_dataset,'masks',name+suffix+jpg)\n",
    "    dst_path_with = os.path.join(With,'test','masks',name+suffix+jpg)\n",
    "    os.popen('cp %s %s'%(src_path_with,dst_path_with))\n",
    "    \n",
    "    #-------------- 对于B--测试集来说，都是使用没有mask掉胰腺区域的图片\n",
    "    #without - imgs\n",
    "    src_path_without = os.path.join(dir_with_pancreas_dataset,'imgs',name+jpg)\n",
    "    dst_path_without = os.path.join(without,'test','imgs',name+jpg)\n",
    "    os.popen('cp %s %s'%(src_path_without,dst_path_without))\n",
    "    #without - masks\n",
    "    src_path_without = os.path.join(dir_with_pancreas_dataset,'masks',name+suffix+jpg)\n",
    "    dst_path_without = os.path.join(without,'test','masks',name+suffix+jpg)\n",
    "    os.popen('cp %s %s'%(src_path_without,dst_path_without))\n",
    "    \n",
    "for name in C:\n",
    "    #with - imgs\n",
    "    src_path_with = os.path.join(dir_with_pancreas_dataset,'imgs',name+jpg)\n",
    "    dst_path_with = os.path.join(With,'val','imgs',name+jpg)\n",
    "    os.popen('cp %s %s'%(src_path_with,dst_path_with))\n",
    "    #with - masks\n",
    "    src_path_with = os.path.join(dir_with_pancreas_dataset,'masks',name+suffix+jpg)\n",
    "    dst_path_with = os.path.join(With,'val','masks',name+suffix+jpg)\n",
    "    os.popen('cp %s %s'%(src_path_with,dst_path_with))\n",
    "    \n",
    "    #-------------- 对于C--验证集来说，都是使用没有mask掉胰腺区域的图片\n",
    "    #without - imgs\n",
    "    src_path_without = os.path.join(dir_with_pancreas_dataset,'imgs',name+jpg)\n",
    "    dst_path_without = os.path.join(without,'val','imgs',name+jpg)\n",
    "    os.popen('cp %s %s'%(src_path_without,dst_path_without))\n",
    "    #without - masks\n",
    "    src_path_without = os.path.join(dir_with_pancreas_dataset,'masks',name+suffix+jpg)\n",
    "    dst_path_without = os.path.join(without,'val','masks',name+suffix+jpg)\n",
    "    os.popen('cp %s %s'%(src_path_without,dst_path_without))\n",
    "\n",
    "for name in original_img_names:\n",
    "    #with - imgs\n",
    "    src_path_with = os.path.join(dir_with_pancreas_dataset,'imgs',name+jpg)\n",
    "    dst_path_with = os.path.join(With,'train','imgs',name+jpg)\n",
    "    os.popen('cp %s %s'%(src_path_with,dst_path_with))\n",
    "    #with - masks\n",
    "    src_path_with = os.path.join(dir_with_pancreas_dataset,'masks',name+suffix+jpg)\n",
    "    dst_path_with = os.path.join(With,'train','masks',name+suffix+jpg)\n",
    "    os.popen('cp %s %s'%(src_path_with,dst_path_with))\n",
    "    \n",
    "    #without - imgs\n",
    "    src_path_without = os.path.join(dir_without_pancreas_dataset,'imgs',name+jpg)\n",
    "    dst_path_without = os.path.join(without,'train','imgs',name+jpg)\n",
    "    os.popen('cp %s %s'%(src_path_without,dst_path_without))\n",
    "    #without - masks\n",
    "    src_path_without = os.path.join(dir_without_pancreas_dataset,'masks',name+suffix+jpg)\n",
    "    dst_path_without = os.path.join(without,'train','masks',name+suffix+jpg)\n",
    "    os.popen('cp %s %s'%(src_path_without,dst_path_without))\n",
    "    \n",
    "for name in elastic_img_names:\n",
    "    #with - imgs\n",
    "    src_path_with = os.path.join(dir_with_pancreas_dataset,'imgs',name+jpg)\n",
    "    dst_path_with = os.path.join(With,'train','imgs',name+jpg)\n",
    "    os.popen('cp %s %s'%(src_path_with,dst_path_with))\n",
    "    #with - masks\n",
    "    src_path_with = os.path.join(dir_with_pancreas_dataset,'masks',name+suffix+jpg)\n",
    "    dst_path_with = os.path.join(With,'train','masks',name+suffix+jpg)\n",
    "    os.popen('cp %s %s'%(src_path_with,dst_path_with))\n",
    "    \n",
    "    #without - imgs\n",
    "    src_path_without = os.path.join(dir_without_pancreas_dataset,'imgs',name+jpg)\n",
    "    dst_path_without = os.path.join(without,'train','imgs',name+jpg)\n",
    "    os.popen('cp %s %s'%(src_path_without,dst_path_without))\n",
    "    #without - masks\n",
    "    src_path_without = os.path.join(dir_without_pancreas_dataset,'masks',name+suffix+jpg)\n",
    "    dst_path_without = os.path.join(without,'train','masks',name+suffix+jpg)\n",
    "    os.popen('cp %s %s'%(src_path_without,dst_path_without))\n",
    "    \n",
    "for name in affine_img_names:\n",
    "    #with - imgs\n",
    "    src_path_with = os.path.join(dir_with_pancreas_dataset,'imgs',name+jpg)\n",
    "    dst_path_with = os.path.join(With,'train','imgs',name+jpg)\n",
    "    os.popen('cp %s %s'%(src_path_with,dst_path_with))\n",
    "    #with - masks\n",
    "    src_path_with = os.path.join(dir_with_pancreas_dataset,'masks',name+suffix+jpg)\n",
    "    dst_path_with = os.path.join(With,'train','masks',name+suffix+jpg)\n",
    "    os.popen('cp %s %s'%(src_path_with,dst_path_with))\n",
    "    \n",
    "    #without - imgs\n",
    "    src_path_without = os.path.join(dir_without_pancreas_dataset,'imgs',name+jpg)\n",
    "    dst_path_without = os.path.join(without,'train','imgs',name+jpg)\n",
    "    os.popen('cp %s %s'%(src_path_without,dst_path_without))\n",
    "    #without - masks\n",
    "    src_path_without = os.path.join(dir_without_pancreas_dataset,'masks',name+suffix+jpg)\n",
    "    dst_path_without = os.path.join(without,'train','masks',name+suffix+jpg)\n",
    "    os.popen('cp %s %s'%(src_path_without,dst_path_without))\n"
   ]
  },
  {
   "cell_type": "code",
   "execution_count": 343,
   "metadata": {},
   "outputs": [
    {
     "data": {
      "text/plain": [
       "(33, 3, 3)"
      ]
     },
     "execution_count": 343,
     "metadata": {},
     "output_type": "execute_result"
    }
   ],
   "source": [
    "len(os.listdir(os.path.join(without,'train','imgs'))),len(os.listdir(os.path.join(without,'val','imgs'))),len(os.listdir(os.path.join(without,'test','imgs')))"
   ]
  },
  {
   "cell_type": "code",
   "execution_count": 345,
   "metadata": {},
   "outputs": [
    {
     "data": {
      "text/plain": [
       "(33, 3, 3)"
      ]
     },
     "execution_count": 345,
     "metadata": {},
     "output_type": "execute_result"
    }
   ],
   "source": [
    "len(os.listdir(os.path.join(without,'train','masks'))),len(os.listdir(os.path.join(without,'val','masks'))),len(os.listdir(os.path.join(without,'test','masks')))"
   ]
  },
  {
   "cell_type": "markdown",
   "metadata": {},
   "source": [
    "<mark>==========================================================================================="
   ]
  },
  {
   "cell_type": "markdown",
   "metadata": {},
   "source": [
    "## test"
   ]
  },
  {
   "cell_type": "code",
   "execution_count": 180,
   "metadata": {},
   "outputs": [
    {
     "data": {
      "text/plain": [
       "['../backup8-ablation-UNet/data/with/train/masks/0a_mask.jpg']"
      ]
     },
     "execution_count": 180,
     "metadata": {},
     "output_type": "execute_result"
    }
   ],
   "source": [
    "mask_file = glob.glob('../backup8-ablation-UNet/data/with/train/masks/0a_mask.*')\n",
    "mask_file"
   ]
  },
  {
   "cell_type": "code",
   "execution_count": 178,
   "metadata": {},
   "outputs": [
    {
     "data": {
      "text/plain": [
       "['/data/defeng/backup8-ablation-UNet/data/with/train/masks/0a_mask.jpg']"
      ]
     },
     "execution_count": 178,
     "metadata": {},
     "output_type": "execute_result"
    }
   ],
   "source": [
    "mask_file = glob.glob('/data/defeng/backup8-ablation-UNet/data/with/train/masks/0a_mask.*')\n",
    "mask_file"
   ]
  },
  {
   "cell_type": "markdown",
   "metadata": {},
   "source": [
    "\\\\sshfs\\defeng@172.18.167.97"
   ]
  },
  {
   "cell_type": "code",
   "execution_count": 134,
   "metadata": {},
   "outputs": [
    {
     "data": {
      "text/plain": [
       "['5.jpg',\n",
       " '9.jpg',\n",
       " '4.jpg',\n",
       " '10.jpg',\n",
       " '6.jpg',\n",
       " '11.jpg',\n",
       " '12.jpg',\n",
       " '1.jpg',\n",
       " '7.jpg',\n",
       " '0.jpg',\n",
       " '2.jpg',\n",
       " '8.jpg',\n",
       " '3.jpg']"
      ]
     },
     "execution_count": 134,
     "metadata": {},
     "output_type": "execute_result"
    }
   ],
   "source": [
    "import os\n",
    "os.listdir('../backup5-fusion-UNet/data/imgs/')"
   ]
  },
  {
   "cell_type": "code",
   "execution_count": 125,
   "metadata": {},
   "outputs": [
    {
     "name": "stdout",
     "output_type": "stream",
     "text": [
      "[[ 0.73298536 -0.3466885 ]\n",
      " [-0.35624475  0.67056095]]\n"
     ]
    },
    {
     "data": {
      "text/plain": [
       "(array([[0., 0.],\n",
       "        [0., 0.]]),\n",
       " (2, 2))"
      ]
     },
     "execution_count": 125,
     "metadata": {},
     "output_type": "execute_result"
    }
   ],
   "source": [
    "a = np.random.randint(0,2,(2,2))\n",
    "b = np.random.randn(2,2)\n",
    "\n",
    "print(b)\n",
    "b[a] = 0\n",
    "b,b.shape"
   ]
  },
  {
   "cell_type": "code",
   "execution_count": 133,
   "metadata": {},
   "outputs": [
    {
     "data": {
      "text/plain": [
       "array([[1, 1],\n",
       "       [1, 0]])"
      ]
     },
     "execution_count": 133,
     "metadata": {},
     "output_type": "execute_result"
    }
   ],
   "source": [
    "a"
   ]
  },
  {
   "cell_type": "code",
   "execution_count": 131,
   "metadata": {},
   "outputs": [
    {
     "data": {
      "text/plain": [
       "array([[[0., 0.],\n",
       "        [0., 0.]],\n",
       "\n",
       "       [[0., 0.],\n",
       "        [0., 0.]]])"
      ]
     },
     "execution_count": 131,
     "metadata": {},
     "output_type": "execute_result"
    }
   ],
   "source": [
    "b[a]"
   ]
  },
  {
   "cell_type": "code",
   "execution_count": 16,
   "metadata": {},
   "outputs": [
    {
     "data": {
      "text/plain": [
       "<matplotlib.image.AxesImage at 0x2ae58f2d9b10>"
      ]
     },
     "execution_count": 16,
     "metadata": {},
     "output_type": "execute_result"
    },
    {
     "data": {
      "image/png": "[encoded data removed]",
      "text/plain": [
       "<Figure size 432x288 with 1 Axes>"
      ]
     },
     "metadata": {
      "needs_background": "light"
     },
     "output_type": "display_data"
    }
   ],
   "source": [
    "# '../Pytorch-UNet/data/masks/0_mask.jpg'\n",
    "# https://blog.csdn.net/qq295456059/article/details/51378313\n",
    "# 灰度图训练时注意图片读入方式，必须加0，反则就变为三通道的了。\n",
    "img = cv2.imread('../pancreas/backup2-seg-dataset/imgs/0.jpg',0)\n",
    "plt.imshow(img,cmap='gray')"
   ]
  },
  {
   "cell_type": "code",
   "execution_count": 49,
   "metadata": {},
   "outputs": [
    {
     "data": {
      "text/plain": [
       "'L'"
      ]
     },
     "execution_count": 49,
     "metadata": {},
     "output_type": "execute_result"
    }
   ],
   "source": [
    "from PIL import Image\n",
    "img = Image.open('../Pytorch-UNet/data/imgs/0.jpg')\n",
    "img.mode"
   ]
  },
  {
   "cell_type": "code",
   "execution_count": 43,
   "metadata": {},
   "outputs": [
    {
     "data": {
      "text/plain": [
       "(512, 512, 3)"
      ]
     },
     "execution_count": 43,
     "metadata": {},
     "output_type": "execute_result"
    }
   ],
   "source": [
    "img = np.array(img)\n",
    "img.shape"
   ]
  },
  {
   "cell_type": "code",
   "execution_count": 9,
   "metadata": {
    "scrolled": true
   },
   "outputs": [
    {
     "data": {
      "text/plain": [
       "(512, 512, 1)"
      ]
     },
     "execution_count": 9,
     "metadata": {},
     "output_type": "execute_result"
    }
   ],
   "source": [
    "img = np.expand_dims(img, axis=2)\n",
    "img.shape"
   ]
  },
  {
   "cell_type": "code",
   "execution_count": 10,
   "metadata": {},
   "outputs": [
    {
     "data": {
      "text/plain": [
       "255"
      ]
     },
     "execution_count": 10,
     "metadata": {},
     "output_type": "execute_result"
    }
   ],
   "source": [
    "img.max()"
   ]
  },
  {
   "cell_type": "code",
   "execution_count": 11,
   "metadata": {
    "scrolled": false
   },
   "outputs": [
    {
     "data": {
      "text/plain": [
       "<matplotlib.image.AxesImage at 0x2ae58e87f990>"
      ]
     },
     "execution_count": 11,
     "metadata": {},
     "output_type": "execute_result"
    },
    {
     "data": {
      "image/png": "[encoded data removed]",
      "text/plain": [
       "<Figure size 432x288 with 1 Axes>"
      ]
     },
     "metadata": {
      "needs_background": "light"
     },
     "output_type": "display_data"
    }
   ],
   "source": [
    "img[0:33,0:245] = 0\n",
    "plt.imshow(img,cmap='gray')"
   ]
  },
  {
   "cell_type": "code",
   "execution_count": null,
   "metadata": {},
   "outputs": [],
   "source": [
    "import os\n",
    "import args\n",
    "\n",
    "parser = argparse.ArgumentParser(description='Train the UNet on images and target masks',\n",
    "                                 formatter_class=argparse.ArgumentDefaultsHelpFormatter)\n",
    "parser.add_argument('-e', '--epochs', metavar='E', type=int, default=-1,\n",
    "                    help='Number of epochs', dest='epochs')\n",
    "parser.add_argument('-t', '--threshold', metavar='E', type=float, default=0.5,\n",
    "                    help='threshold for classification', dest='threshold')\n",
    "\n",
    "parser.parse_args()\n",
    "\n",
    "path = './data/'\n",
    "\n",
    "EPOCH = parser.epochs\n",
    "if EPOCH == -1:\n",
    "    \n",
    "\n",
    "\n",
    "command = 'python predict.py -m checkpoints/CP_epoch300.pth --scale 1.0 -i data/imgs/0.jpg -o data/val_result/val_0.jpg -t 0.5'"
   ]
  },
  {
   "cell_type": "code",
   "execution_count": null,
   "metadata": {},
   "outputs": [],
   "source": [
    "import re\n",
    "\n",
    "regex = re.compile(r'\\d+')\n",
    "epochs_index = [int(regex.findall(name[:-4])[0]) for name in os.listdir('../Pytorch-UNet/checkpoints/')]\n",
    "\n",
    "\n",
    "# num = int(max(regex.findall(epochs_index)))\n",
    "# print(num)\n",
    "max(epochs_index)\n"
   ]
  }
 ],
 "metadata": {
  "kernelspec": {
   "display_name": "Python [conda env:torch]",
   "language": "python",
   "name": "conda-env-torch-py"
  },
  "language_info": {
   "codemirror_mode": {
    "name": "ipython",
    "version": 3
   },
   "file_extension": ".py",
   "mimetype": "text/x-python",
   "name": "python",
   "nbconvert_exporter": "python",
   "pygments_lexer": "ipython3",
   "version": "3.7.10"
  },
  "toc": {
   "base_numbering": 1,
   "nav_menu": {},
   "number_sections": true,
   "sideBar": true,
   "skip_h1_title": false,
   "title_cell": "Table of Contents",
   "title_sidebar": "Contents",
   "toc_cell": false,
   "toc_position": {},
   "toc_section_display": true,
   "toc_window_display": false
  },
  "varInspector": {
   "cols": {
    "lenName": 16,
    "lenType": 16,
    "lenVar": 40
   },
   "kernels_config": {
    "python": {
     "delete_cmd_postfix": "",
     "delete_cmd_prefix": "del ",
     "library": "var_list.py",
     "varRefreshCmd": "print(var_dic_list())"
    },
    "r": {
     "delete_cmd_postfix": ") ",
     "delete_cmd_prefix": "rm(",
     "library": "var_list.r",
     "varRefreshCmd": "cat(var_dic_list()) "
    }
   },
   "types_to_exclude": [
    "module",
    "function",
    "builtin_function_or_method",
    "instance",
    "_Feature"
   ],
   "window_display": false
  }
 },
 "nbformat": 4,
 "nbformat_minor": 4
}
