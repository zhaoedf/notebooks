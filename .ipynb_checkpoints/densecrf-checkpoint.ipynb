{
 "cells": [
  {
   "cell_type": "code",
   "execution_count": 4,
   "metadata": {},
   "outputs": [],
   "source": [
    "import sys\n",
    "import numpy as np\n",
    "import pydensecrf.densecrf as dcrf\n",
    "\n",
    "# Get im{read,write} from somewhere.\n",
    "try:\n",
    "    from cv2 import imread, imwrite\n",
    "except ImportError:\n",
    "    # Note that, sadly, skimage unconditionally import scipy and matplotlib,\n",
    "    # so you'll need them if you don't have OpenCV. But you probably have them.\n",
    "    from skimage.io import imread, imsave\n",
    "    imwrite = imsave\n",
    "    # TODO: Use scipy instead.\n",
    "\n",
    "from pydensecrf.utils import unary_from_labels, create_pairwise_bilateral, create_pairwise_gaussian\n",
    "\n",
    "import os "
   ]
  },
  {
   "cell_type": "code",
   "execution_count": 5,
   "metadata": {},
   "outputs": [],
   "source": [
    "idx = 1\n",
    "SRC_PATH = os.path.join(os.getcwd(), 'pydensecrf', 'examples')\n",
    "\n",
    "fn_im = os.path.join(SRC_PATH, f'im{idx}.png')\n",
    "fn_anno = os.path.join(SRC_PATH, f'anno{idx}.png')\n",
    "fn_output = os.path.join(SRC_PATH, f'test_output{idx}.png')"
   ]
  },
  {
   "cell_type": "code",
   "execution_count": 9,
   "metadata": {},
   "outputs": [],
   "source": [
    "##################################\n",
    "### Read images and annotation ###\n",
    "##################################\n",
    "img = imread(fn_im)\n",
    "\n",
    "# Convert the annotation's RGB color to a single 32-bit integer color 0xBBGGRR\n",
    "anno_rgb = imread(fn_anno).astype(np.uint32)\n",
    "# no-need, pure int label is fine.\n",
    "# anno_lbl = anno_rgb[:,:,0] + (anno_rgb[:,:,1] << 8) + (anno_rgb[:,:,2] << 16)"
   ]
  },
  {
   "cell_type": "code",
   "execution_count": 11,
   "metadata": {},
   "outputs": [],
   "source": [
    "colors, labels = np.unique(anno_rgb, return_inverse=True)"
   ]
  },
  {
   "cell_type": "code",
   "execution_count": 12,
   "metadata": {},
   "outputs": [
    {
     "data": {
      "text/plain": [
       "array([  0,  64, 128], dtype=uint32)"
      ]
     },
     "execution_count": 12,
     "metadata": {},
     "output_type": "execute_result"
    }
   ],
   "source": [
    "colors"
   ]
  },
  {
   "cell_type": "code",
   "execution_count": null,
   "metadata": {},
   "outputs": [],
   "source": [
    "colors, labels = np.unique(anno_lbl, return_inverse=True)\n",
    "\n",
    "# But remove the all-0 black, that won't exist in the MAP!\n",
    "UNKS = [0, 255]\n",
    "HAS_UNK = 0\n",
    "for unk in UNKS:\n",
    "    if unk in colors:\n",
    "        HAS_UNK = 1\n",
    "        b\n",
    "if HAS_UNK:\n",
    "    print(\"Found a full-black pixel in annotation image, assuming it means 'unknown' label, and will thus not be present in the output!\")\n",
    "    print(\"If 0 is an actual label for you, consider writing your own code, or simply giving your labels only non-zero values.\")\n",
    "    colors = colors[1:]"
   ]
  }
 ],
 "metadata": {
  "kernelspec": {
   "display_name": "Python [conda env:torch]",
   "language": "python",
   "name": "conda-env-torch-py"
  },
  "language_info": {
   "codemirror_mode": {
    "name": "ipython",
    "version": 3
   },
   "file_extension": ".py",
   "mimetype": "text/x-python",
   "name": "python",
   "nbconvert_exporter": "python",
   "pygments_lexer": "ipython3",
   "version": "3.7.10"
  },
  "toc": {
   "base_numbering": 1,
   "nav_menu": {},
   "number_sections": true,
   "sideBar": true,
   "skip_h1_title": false,
   "title_cell": "Table of Contents",
   "title_sidebar": "Contents",
   "toc_cell": false,
   "toc_position": {},
   "toc_section_display": true,
   "toc_window_display": false
  }
 },
 "nbformat": 4,
 "nbformat_minor": 4
}
