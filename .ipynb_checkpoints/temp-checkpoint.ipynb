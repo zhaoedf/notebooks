{
 "cells": [
  {
   "cell_type": "code",
   "execution_count": 5,
   "metadata": {},
   "outputs": [
    {
     "data": {
      "text/plain": [
       "4"
      ]
     },
     "execution_count": 5,
     "metadata": {},
     "output_type": "execute_result"
    }
   ],
   "source": [
    "with open('../Pytorch-UNet/exp_index.txt',mode='r') as f:\n",
    "    a = f.readline()\n",
    "\n",
    "\n",
    "\n",
    "regex = re.compile('\\d+')\n",
    "res = int(regex.findall(a)[0])\n",
    "\n",
    "res    "
   ]
  },
  {
   "cell_type": "code",
   "execution_count": 7,
   "metadata": {},
   "outputs": [
    {
     "data": {
      "text/plain": [
       "'checkpoints_4/'"
      ]
     },
     "execution_count": 7,
     "metadata": {},
     "output_type": "execute_result"
    }
   ],
   "source": [
    "dir_checkpoint = 'checkpoints_%d/'%(res)\n",
    "dir_checkpoint"
   ]
  },
  {
   "cell_type": "code",
   "execution_count": 8,
   "metadata": {},
   "outputs": [
    {
     "data": {
      "text/plain": [
       "255"
      ]
     },
     "execution_count": 8,
     "metadata": {},
     "output_type": "execute_result"
    }
   ],
   "source": [
    "import cv2\n",
    "\n",
    "img = cv2.imread('../Pytorch-UNet/data/masks/0_mask.jpg')\n",
    "img.max()"
   ]
  },
  {
   "cell_type": "code",
   "execution_count": 1,
   "metadata": {},
   "outputs": [
    {
     "data": {
      "text/plain": [
       "['/GPUFS/sysu_rxwang_1/defeng/Pytorch-UNet/data/imgs/5.jpg',\n",
       " '/GPUFS/sysu_rxwang_1/defeng/Pytorch-UNet/data/imgs/4.jpg',\n",
       " '/GPUFS/sysu_rxwang_1/defeng/Pytorch-UNet/data/imgs/10.jpg',\n",
       " '/GPUFS/sysu_rxwang_1/defeng/Pytorch-UNet/data/imgs/6.jpg',\n",
       " '/GPUFS/sysu_rxwang_1/defeng/Pytorch-UNet/data/imgs/12.jpg',\n",
       " '/GPUFS/sysu_rxwang_1/defeng/Pytorch-UNet/data/imgs/13.jpg',\n",
       " '/GPUFS/sysu_rxwang_1/defeng/Pytorch-UNet/data/imgs/1.jpg',\n",
       " '/GPUFS/sysu_rxwang_1/defeng/Pytorch-UNet/data/imgs/7.jpg',\n",
       " '/GPUFS/sysu_rxwang_1/defeng/Pytorch-UNet/data/imgs/0.jpg',\n",
       " '/GPUFS/sysu_rxwang_1/defeng/Pytorch-UNet/data/imgs/2.jpg',\n",
       " '/GPUFS/sysu_rxwang_1/defeng/Pytorch-UNet/data/imgs/8.jpg',\n",
       " '/GPUFS/sysu_rxwang_1/defeng/Pytorch-UNet/data/imgs/3.jpg']"
      ]
     },
     "execution_count": 1,
     "metadata": {},
     "output_type": "execute_result"
    }
   ],
   "source": [
    "import os\n",
    "\n",
    "path = '/GPUFS/sysu_rxwang_1/defeng/Pytorch-UNet/data/imgs/'\n",
    "\n",
    "names = [os.path.join(path,name) for name in os.listdir(path)]\n",
    "\n",
    "names"
   ]
  },
  {
   "cell_type": "code",
   "execution_count": 4,
   "metadata": {},
   "outputs": [
    {
     "ename": "FileExistsError",
     "evalue": "[Errno 17] File exists: '../Pytorch-UNet/data/val_result/exp2'",
     "output_type": "error",
     "traceback": [
      "\u001b[0;31m---------------------------------------------------------------------------\u001b[0m",
      "\u001b[0;31mFileExistsError\u001b[0m                           Traceback (most recent call last)",
      "\u001b[0;32m<ipython-input-4-10e3e502fd40>\u001b[0m in \u001b[0;36m<module>\u001b[0;34m\u001b[0m\n\u001b[0;32m----> 1\u001b[0;31m \u001b[0mos\u001b[0m\u001b[0;34m.\u001b[0m\u001b[0mmkdir\u001b[0m\u001b[0;34m(\u001b[0m\u001b[0;34m'../Pytorch-UNet/data/val_result/exp2'\u001b[0m\u001b[0;34m)\u001b[0m\u001b[0;34m\u001b[0m\u001b[0;34m\u001b[0m\u001b[0m\n\u001b[0m",
      "\u001b[0;31mFileExistsError\u001b[0m: [Errno 17] File exists: '../Pytorch-UNet/data/val_result/exp2'"
     ]
    }
   ],
   "source": [
    "os.mkdir('../Pytorch-UNet/data/val_result/exp2')"
   ]
  },
  {
   "cell_type": "code",
   "execution_count": 10,
   "metadata": {},
   "outputs": [],
   "source": [
    "import torch"
   ]
  },
  {
   "cell_type": "code",
   "execution_count": 11,
   "metadata": {},
   "outputs": [
    {
     "ename": "ModuleNotFoundError",
     "evalue": "No module named 'utils'",
     "output_type": "error",
     "traceback": [
      "\u001b[0;31m---------------------------------------------------------------------------\u001b[0m",
      "\u001b[0;31mModuleNotFoundError\u001b[0m                       Traceback (most recent call last)",
      "\u001b[0;32m<ipython-input-11-3c3c56b7c031>\u001b[0m in \u001b[0;36m<module>\u001b[0;34m\u001b[0m\n\u001b[0;32m----> 1\u001b[0;31m \u001b[0;32mfrom\u001b[0m \u001b[0mutils\u001b[0m\u001b[0;34m.\u001b[0m\u001b[0mdataset\u001b[0m \u001b[0;32mimport\u001b[0m \u001b[0mBasicDataset\u001b[0m\u001b[0;34m\u001b[0m\u001b[0;34m\u001b[0m\u001b[0m\n\u001b[0m\u001b[1;32m      2\u001b[0m \u001b[0mdataset\u001b[0m \u001b[0;34m=\u001b[0m \u001b[0mBasicDataset\u001b[0m\u001b[0;34m(\u001b[0m\u001b[0;34m'../Pytorch-UNet/data/imgs/'\u001b[0m\u001b[0;34m,\u001b[0m \u001b[0;34m'../Pytorch-UNet/data/masks/'\u001b[0m\u001b[0;34m,\u001b[0m \u001b[0;36m1.0\u001b[0m\u001b[0;34m,\u001b[0m\u001b[0mmask_suffix\u001b[0m\u001b[0;34m=\u001b[0m\u001b[0;34m'_mask'\u001b[0m\u001b[0;34m)\u001b[0m\u001b[0;34m\u001b[0m\u001b[0;34m\u001b[0m\u001b[0m\n",
      "\u001b[0;31mModuleNotFoundError\u001b[0m: No module named 'utils'"
     ]
    }
   ],
   "source": [
    "from .utils.dataset import BasicDataset\n",
    "dataset = BasicDataset('../Pytorch-UNet/data/imgs/', '../Pytorch-UNet/data/masks/', 1.0,mask_suffix='_mask')"
   ]
  },
  {
   "cell_type": "code",
   "execution_count": 2,
   "metadata": {},
   "outputs": [
    {
     "data": {
      "text/plain": [
       "0"
      ]
     },
     "execution_count": 2,
     "metadata": {},
     "output_type": "execute_result"
    }
   ],
   "source": [
    "torch.cuda.current_device()"
   ]
  },
  {
   "cell_type": "code",
   "execution_count": 5,
   "metadata": {},
   "outputs": [
    {
     "data": {
      "text/plain": [
       "2"
      ]
     },
     "execution_count": 5,
     "metadata": {},
     "output_type": "execute_result"
    }
   ],
   "source": [
    "torch.cuda.device_count()"
   ]
  },
  {
   "cell_type": "code",
   "execution_count": 8,
   "metadata": {},
   "outputs": [
    {
     "data": {
      "text/plain": [
       "0"
      ]
     },
     "execution_count": 8,
     "metadata": {},
     "output_type": "execute_result"
    }
   ],
   "source": [
    "device = torch.device('cuda:1')\n",
    "torch.cuda.current_device()"
   ]
  },
  {
   "cell_type": "code",
   "execution_count": 9,
   "metadata": {},
   "outputs": [],
   "source": [
    "one = torch.ones(1,3,4,4).to(device)"
   ]
  },
  {
   "cell_type": "code",
   "execution_count": 7,
   "metadata": {},
   "outputs": [],
   "source": [
    "import re \n",
    "\n",
    "with open('../backup7-pretrained-UNet/group.txt',mode='r') as f:\n",
    "    a = f.readline()\n",
    "regex = re.compile('\\d+')\n",
    "res = int(regex.findall(a)[0])\n",
    "\n",
    "dir_checkpoint = 'checkpoints/%d'%(res)"
   ]
  },
  {
   "cell_type": "code",
   "execution_count": 8,
   "metadata": {},
   "outputs": [
    {
     "data": {
      "text/plain": [
       "0"
      ]
     },
     "execution_count": 8,
     "metadata": {},
     "output_type": "execute_result"
    }
   ],
   "source": [
    "res"
   ]
  },
  {
   "cell_type": "code",
   "execution_count": 6,
   "metadata": {},
   "outputs": [],
   "source": [
    "with open('../backup7-pretrained-UNet/group.txt',mode='w') as f:\n",
    "    f.write(str(0))\n",
    "\n",
    "    "
   ]
  },
  {
   "cell_type": "code",
   "execution_count": 1,
   "metadata": {},
   "outputs": [],
   "source": [
    "import os"
   ]
  },
  {
   "cell_type": "code",
   "execution_count": 9,
   "metadata": {},
   "outputs": [
    {
     "data": {
      "text/plain": [
       "['4651',\n",
       " '6246',\n",
       " '6876',\n",
       " '1456',\n",
       " '3531',\n",
       " '2377',\n",
       " '6882',\n",
       " '6579',\n",
       " '3959',\n",
       " '3136']"
      ]
     },
     "execution_count": 9,
     "metadata": {},
     "output_type": "execute_result"
    }
   ],
   "source": [
    "names = os.listdir('../zhaodefeng-handover-pancreas-segmentation/data/imgs/')\n",
    "names = [name[:-4] for name in names[:10]]\n",
    "names"
   ]
  },
  {
   "cell_type": "code",
   "execution_count": 19,
   "metadata": {},
   "outputs": [
    {
     "ename": "FileExistsError",
     "evalue": "[Errno 17] File exists: '/data/defeng/zhaodefeng-handover-pancreas-segmentation/test'",
     "output_type": "error",
     "traceback": [
      "\u001b[0;31m---------------------------------------------------------------------------\u001b[0m",
      "\u001b[0;31mFileExistsError\u001b[0m                           Traceback (most recent call last)",
      "\u001b[0;32m<ipython-input-19-36ca174d3610>\u001b[0m in \u001b[0;36m<module>\u001b[0;34m\u001b[0m\n\u001b[1;32m      3\u001b[0m \u001b[0;34m\u001b[0m\u001b[0m\n\u001b[1;32m      4\u001b[0m \u001b[0mdst_path\u001b[0m \u001b[0;34m=\u001b[0m \u001b[0;34m'/data/defeng/zhaodefeng-handover-pancreas-segmentation/test'\u001b[0m\u001b[0;34m\u001b[0m\u001b[0;34m\u001b[0m\u001b[0m\n\u001b[0;32m----> 5\u001b[0;31m \u001b[0mos\u001b[0m\u001b[0;34m.\u001b[0m\u001b[0mmkdir\u001b[0m\u001b[0;34m(\u001b[0m\u001b[0mdst_path\u001b[0m\u001b[0;34m)\u001b[0m\u001b[0;34m\u001b[0m\u001b[0;34m\u001b[0m\u001b[0m\n\u001b[0m\u001b[1;32m      6\u001b[0m \u001b[0;34m\u001b[0m\u001b[0m\n\u001b[1;32m      7\u001b[0m \u001b[0mos\u001b[0m\u001b[0;34m.\u001b[0m\u001b[0mmkdir\u001b[0m\u001b[0;34m(\u001b[0m\u001b[0mos\u001b[0m\u001b[0;34m.\u001b[0m\u001b[0mpath\u001b[0m\u001b[0;34m.\u001b[0m\u001b[0mjoin\u001b[0m\u001b[0;34m(\u001b[0m\u001b[0mdst_path\u001b[0m\u001b[0;34m,\u001b[0m\u001b[0;34m'imgs'\u001b[0m\u001b[0;34m)\u001b[0m\u001b[0;34m)\u001b[0m\u001b[0;34m\u001b[0m\u001b[0;34m\u001b[0m\u001b[0m\n",
      "\u001b[0;31mFileExistsError\u001b[0m: [Errno 17] File exists: '/data/defeng/zhaodefeng-handover-pancreas-segmentation/test'"
     ]
    }
   ],
   "source": [
    "imgs_path = '/data/defeng/zhaodefeng-handover-pancreas-segmentation/data/imgs'\n",
    "masks_path = '/data/defeng/zhaodefeng-handover-pancreas-segmentation/data/masks'\n",
    "\n",
    "dst_path = '/data/defeng/zhaodefeng-handover-pancreas-segmentation/test'\n",
    "os.mkdir(dst_path)\n",
    "\n",
    "os.mkdir(os.path.join(dst_path,'imgs'))\n",
    "os.mkdir(os.path.join(dst_path,'masks'))"
   ]
  },
  {
   "cell_type": "code",
   "execution_count": 20,
   "metadata": {
    "scrolled": true
   },
   "outputs": [
    {
     "name": "stdout",
     "output_type": "stream",
     "text": [
      "/data/defeng/zhaodefeng-handover-pancreas-segmentation/test/imgs/4651.jpg\n",
      "/data/defeng/zhaodefeng-handover-pancreas-segmentation/test/imgs/6246.jpg\n",
      "/data/defeng/zhaodefeng-handover-pancreas-segmentation/test/imgs/6876.jpg\n",
      "/data/defeng/zhaodefeng-handover-pancreas-segmentation/test/imgs/1456.jpg\n",
      "/data/defeng/zhaodefeng-handover-pancreas-segmentation/test/imgs/3531.jpg\n",
      "/data/defeng/zhaodefeng-handover-pancreas-segmentation/test/imgs/2377.jpg\n",
      "/data/defeng/zhaodefeng-handover-pancreas-segmentation/test/imgs/6882.jpg\n",
      "/data/defeng/zhaodefeng-handover-pancreas-segmentation/test/imgs/6579.jpg\n",
      "/data/defeng/zhaodefeng-handover-pancreas-segmentation/test/imgs/3959.jpg\n",
      "/data/defeng/zhaodefeng-handover-pancreas-segmentation/test/imgs/3136.jpg\n"
     ]
    }
   ],
   "source": [
    "for name in names:\n",
    "    os.popen('cp %s %s'%(os.path.join(imgs_path,name+'.jpg'),os.path.join(dst_path,'imgs',name+'.jpg')))\n",
    "    os.popen('cp %s %s'%(os.path.join(masks_path,name+'_mask.jpg'),os.path.join(dst_path,'masks',name+'.jpg')))\n",
    "    print(os.path.join(dst_path,'imgs',name+'.jpg'))"
   ]
  },
  {
   "cell_type": "code",
   "execution_count": 21,
   "metadata": {},
   "outputs": [],
   "source": [
    "import torch"
   ]
  },
  {
   "cell_type": "code",
   "execution_count": 24,
   "metadata": {},
   "outputs": [],
   "source": [
    "one = torch.ones(2,3,4,5)\n",
    "two = torch.ones(2,3,5,4)\n",
    "\n",
    "res = one @ two"
   ]
  },
  {
   "cell_type": "code",
   "execution_count": 25,
   "metadata": {},
   "outputs": [
    {
     "data": {
      "text/plain": [
       "torch.Size([2, 3, 4, 4])"
      ]
     },
     "execution_count": 25,
     "metadata": {},
     "output_type": "execute_result"
    }
   ],
   "source": [
    "res.shape"
   ]
  },
  {
   "cell_type": "code",
   "execution_count": 2,
   "metadata": {},
   "outputs": [
    {
     "ename": "ModuleNotFoundError",
     "evalue": "No module named 'incremental_scenario'",
     "output_type": "error",
     "traceback": [
      "\u001b[0;31m---------------------------------------------------------------------------\u001b[0m",
      "\u001b[0;31mModuleNotFoundError\u001b[0m                       Traceback (most recent call last)",
      "\u001b[0;32m<ipython-input-2-9585f8c3787a>\u001b[0m in \u001b[0;36m<module>\u001b[0;34m\u001b[0m\n\u001b[0;32m----> 1\u001b[0;31m \u001b[0;32mfrom\u001b[0m \u001b[0mincremental_scenario\u001b[0m \u001b[0;32mimport\u001b[0m \u001b[0mincremental_scenario\u001b[0m\u001b[0;34m\u001b[0m\u001b[0;34m\u001b[0m\u001b[0m\n\u001b[0m",
      "\u001b[0;31mModuleNotFoundError\u001b[0m: No module named 'incremental_scenario'"
     ]
    }
   ],
   "source": [
    "from incremental_scenario import incremental_scenario"
   ]
  }
 ],
 "metadata": {
  "kernelspec": {
   "display_name": "Python [conda env:IL]",
   "language": "python",
   "name": "conda-env-IL-py"
  },
  "language_info": {
   "codemirror_mode": {
    "name": "ipython",
    "version": 3
   },
   "file_extension": ".py",
   "mimetype": "text/x-python",
   "name": "python",
   "nbconvert_exporter": "python",
   "pygments_lexer": "ipython3",
   "version": "3.7.10"
  },
  "toc": {
   "base_numbering": 1,
   "nav_menu": {},
   "number_sections": true,
   "sideBar": true,
   "skip_h1_title": false,
   "title_cell": "Table of Contents",
   "title_sidebar": "Contents",
   "toc_cell": false,
   "toc_position": {},
   "toc_section_display": true,
   "toc_window_display": false
  },
  "varInspector": {
   "cols": {
    "lenName": 16,
    "lenType": 16,
    "lenVar": 40
   },
   "kernels_config": {
    "python": {
     "delete_cmd_postfix": "",
     "delete_cmd_prefix": "del ",
     "library": "var_list.py",
     "varRefreshCmd": "print(var_dic_list())"
    },
    "r": {
     "delete_cmd_postfix": ") ",
     "delete_cmd_prefix": "rm(",
     "library": "var_list.r",
     "varRefreshCmd": "cat(var_dic_list()) "
    }
   },
   "types_to_exclude": [
    "module",
    "function",
    "builtin_function_or_method",
    "instance",
    "_Feature"
   ],
   "window_display": false
  }
 },
 "nbformat": 4,
 "nbformat_minor": 4
}
