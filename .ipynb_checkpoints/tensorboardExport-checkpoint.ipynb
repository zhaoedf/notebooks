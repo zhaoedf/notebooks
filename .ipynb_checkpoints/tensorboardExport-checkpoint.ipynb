{
 "cells": [
  {
   "cell_type": "code",
   "execution_count": 3,
   "metadata": {},
   "outputs": [],
   "source": [
    "from tensorboard.backend.event_processing import event_accumulator\n",
    "import argparse\n",
    "import pandas as pd\n",
    "from tqdm import tqdm\n",
    "\n",
    "import os\n",
    "import re"
   ]
  },
  {
   "cell_type": "markdown",
   "metadata": {},
   "source": [
    "# 函数定义"
   ]
  },
  {
   "cell_type": "markdown",
   "metadata": {},
   "source": [
    "export的作用是导出tensorboard event为csv文件；get_df的作用则是导出tensorboard event为DataFrame"
   ]
  },
  {
   "cell_type": "code",
   "execution_count": 4,
   "metadata": {},
   "outputs": [],
   "source": [
    "def export(in_path,ex_path,name):\n",
    "    event_data = event_accumulator.EventAccumulator(in_path)  # a python interface for loading Event data\n",
    "    event_data.Reload()  # synchronously loads all of the data written so far b\n",
    "    # print(event_data.Tags())  # print all tags\n",
    "    keys = event_data.scalars.Keys()  # get all tags,save in a list\n",
    "    print(keys)\n",
    "    df = pd.DataFrame(columns=keys[1:])  # my first column is training loss per iteration, so I abandon it\n",
    "    for key in tqdm(keys):\n",
    "        #print(key)\n",
    "        if key != 'Dice/test': continue\n",
    "\n",
    "        if key != 'train/total_loss_iter':  # Other attributes' timestamp is epoch.Ignore it for the format of csv file\n",
    "            df[key] = pd.DataFrame(event_data.Scalars(key)).value\n",
    "\n",
    "    df.to_csv(os.path.join(ex_path,name+'.csv'))\n",
    "\n",
    "    print(\"Tensorboard data: %s exported successfully\" %(name))\n"
   ]
  },
  {
   "cell_type": "code",
   "execution_count": 5,
   "metadata": {},
   "outputs": [],
   "source": [
    "def get_df(in_path):\n",
    "    event_data = event_accumulator.EventAccumulator(in_path)  # a python interface for loading Event data\n",
    "    event_data.Reload()  # synchronously loads all of the data written so far b\n",
    "    # print(event_data.Tags())  # print all tags\n",
    "    keys = event_data.scalars.Keys()  # get all tags,save in a list\n",
    "    # print(keys)\n",
    "    df = pd.DataFrame(columns=keys[1:])  # my first column is training loss per iteration, so I abandon it\n",
    "    for key in tqdm(keys):\n",
    "        #print(key)\n",
    "        \n",
    "        if key != 'train/total_loss_iter':  # Other attributes' timestamp is epoch.Ignore it for the format of csv file\n",
    "            df[key] = pd.DataFrame(event_data.Scalars(key)).value\n",
    "\n",
    "    #df.to_csv(os.path.join(ex_path,name+'.csv'))\n",
    "\n",
    "    #print(\"Tensorboard data: %s exported successfully\" %(name))"
   ]
  },
  {
   "cell_type": "markdown",
   "metadata": {},
   "source": [
    "# 路径定义"
   ]
  },
  {
   "cell_type": "code",
   "execution_count": 7,
   "metadata": {
    "scrolled": true
   },
   "outputs": [],
   "source": [
    "project_path = '../backup8-ablation-UNet/'\n",
    "\n",
    "runs_path = os.path.join(project_path,'runs')\n",
    "runs_name = os.listdir(runs_path)\n",
    "\n",
    "export_path = os.path.join(project_path,'runs_export')\n",
    "if os.path.exists(export_path):\n",
    "    import shutil\n",
    "    shutil.rmtree(export_path, ignore_errors=True)\n",
    "    print(\"deleting... Done!\")\n",
    "    \n",
    "os.mkdir(export_path)"
   ]
  },
  {
   "cell_type": "markdown",
   "metadata": {},
   "source": [
    "# 生成csv"
   ]
  },
  {
   "cell_type": "markdown",
   "metadata": {},
   "source": [
    "导出的数据中，注意：<br>\n",
    "    在tensorboard中，其把DICE/test和loss/train都显示为了横轴长900，<br>\n",
    "    但实际上，横轴对应iter，而loss是train的，所以每个iter都计算，那么300个epoch，每个epoch3个iter(数据总长为13，留一后训练数目为12)，<br>\n",
    "    而DICE/test是每个epoch测试一次的，所以横轴应该只有300个iter，即每隔3个iter测试一次，所以csv中，DICE/test只有300个数据。"
   ]
  },
  {
   "cell_type": "code",
   "execution_count": 8,
   "metadata": {
    "scrolled": false
   },
   "outputs": [
    {
     "name": "stdout",
     "output_type": "stream",
     "text": [
      "--------------------------------------------------\n"
     ]
    },
    {
     "name": "stderr",
     "output_type": "stream",
     "text": [
      "100%|██████████| 3/3 [00:00<00:00, 90.24it/s]"
     ]
    },
    {
     "name": "stdout",
     "output_type": "stream",
     "text": [
      "['Loss/train', 'learning_rate', 'Dice/test']\n",
      "Tensorboard data: %Fusion%__not_loaded%__with% exported successfully\n",
      "--------------------------------------------------\n"
     ]
    },
    {
     "name": "stderr",
     "output_type": "stream",
     "text": [
      "\n",
      "100%|██████████| 3/3 [00:00<00:00, 1471.86it/s]"
     ]
    },
    {
     "name": "stdout",
     "output_type": "stream",
     "text": [
      "['Loss/train', 'learning_rate', 'Dice/test']\n",
      "Tensorboard data: %Fusion%__loaded%__without% exported successfully\n",
      "--------------------------------------------------\n"
     ]
    },
    {
     "name": "stderr",
     "output_type": "stream",
     "text": [
      "\n",
      "100%|██████████| 3/3 [00:00<00:00, 890.32it/s]"
     ]
    },
    {
     "name": "stdout",
     "output_type": "stream",
     "text": [
      "['Loss/train', 'learning_rate', 'Dice/test']\n",
      "Tensorboard data: %Fusion%__loaded%__with% exported successfully\n",
      "--------------------------------------------------\n"
     ]
    },
    {
     "name": "stderr",
     "output_type": "stream",
     "text": [
      "\n",
      "100%|██████████| 3/3 [00:00<00:00, 1044.57it/s]"
     ]
    },
    {
     "name": "stdout",
     "output_type": "stream",
     "text": [
      "['Loss/train', 'learning_rate', 'Dice/test']\n",
      "Tensorboard data: %Fusion%__not_loaded%__without% exported successfully\n"
     ]
    },
    {
     "name": "stderr",
     "output_type": "stream",
     "text": [
      "\n"
     ]
    }
   ],
   "source": [
    "for name in runs_name:\n",
    "    #print('-'*50,name)\n",
    "    print('-'*50)\n",
    "    regex = re.compile('%+?[a-zA-Z0-9_%-,]*%+?[a-zA-Z0-9_%,\\-\\.]*%+?') #'[a-zA-Z0-9]*%+?[a-zA-Z0-9]*%+?[a-zA-Z0-9]*'\n",
    "    res = regex.findall(name)[0]\n",
    "    \n",
    "    run_path = os.path.join(runs_path,name)\n",
    "    run_export_path = os.path.join(export_path,name)\n",
    "    #os.mkdir(run_export_path)\n",
    "    \n",
    "    #export(run_path,run_export_path,res)\n",
    "    export(run_path,export_path,res)"
   ]
  },
  {
   "cell_type": "markdown",
   "metadata": {},
   "source": [
    "# 加载csv，作图后保存到csv同目录"
   ]
  },
  {
   "cell_type": "code",
   "execution_count": null,
   "metadata": {},
   "outputs": [],
   "source": [
    "df = get_df()"
   ]
  }
 ],
 "metadata": {
  "kernelspec": {
   "display_name": "Python [conda env:torch]",
   "language": "python",
   "name": "conda-env-torch-py"
  },
  "language_info": {
   "codemirror_mode": {
    "name": "ipython",
    "version": 3
   },
   "file_extension": ".py",
   "mimetype": "text/x-python",
   "name": "python",
   "nbconvert_exporter": "python",
   "pygments_lexer": "ipython3",
   "version": "3.7.10"
  },
  "toc": {
   "base_numbering": 1,
   "nav_menu": {},
   "number_sections": true,
   "sideBar": true,
   "skip_h1_title": false,
   "title_cell": "Table of Contents",
   "title_sidebar": "Contents",
   "toc_cell": false,
   "toc_position": {},
   "toc_section_display": true,
   "toc_window_display": false
  },
  "varInspector": {
   "cols": {
    "lenName": 16,
    "lenType": 16,
    "lenVar": 40
   },
   "kernels_config": {
    "python": {
     "delete_cmd_postfix": "",
     "delete_cmd_prefix": "del ",
     "library": "var_list.py",
     "varRefreshCmd": "print(var_dic_list())"
    },
    "r": {
     "delete_cmd_postfix": ") ",
     "delete_cmd_prefix": "rm(",
     "library": "var_list.r",
     "varRefreshCmd": "cat(var_dic_list()) "
    }
   },
   "types_to_exclude": [
    "module",
    "function",
    "builtin_function_or_method",
    "instance",
    "_Feature"
   ],
   "window_display": false
  }
 },
 "nbformat": 4,
 "nbformat_minor": 4
}
