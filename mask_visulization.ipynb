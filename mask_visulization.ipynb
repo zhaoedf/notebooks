{
 "cells": [
  {
   "cell_type": "code",
   "execution_count": 49,
   "id": "christian-frost",
   "metadata": {},
   "outputs": [],
   "source": [
    "import cv2\n",
    "import numpy as np\n",
    "import matplotlib.pyplot as plt\n",
    "\n",
    "import os"
   ]
  },
  {
   "cell_type": "code",
   "execution_count": 50,
   "id": "descending-lithuania",
   "metadata": {},
   "outputs": [],
   "source": [
    "img_names = [name[:-4] for name in os.listdir('../pancreas/backup1-seg-dataset/imgs')]"
   ]
  },
  {
   "cell_type": "code",
   "execution_count": 51,
   "id": "choice-tower",
   "metadata": {},
   "outputs": [],
   "source": [
    "img_path = '/GPUFS/sysu_rxwang_1/defeng/pancreas/backup1-seg-dataset/imgs/'\n",
    "tumor_path = '/GPUFS/sysu_rxwang_1/defeng/pancreas/backup1-seg-dataset/tumor/'\n",
    "pancreas_path = '/GPUFS/sysu_rxwang_1/defeng/pancreas/backup1-seg-dataset/pancreas/'\n",
    "result_path = '/GPUFS/sysu_rxwang_1/defeng/pancreas/backup1-seg-dataset/results'"
   ]
  },
  {
   "cell_type": "code",
   "execution_count": 52,
   "id": "mineral-flood",
   "metadata": {},
   "outputs": [],
   "source": [
    "color_map = {'pancreas':[255,0,0], 'tumor':[0,0,255]}"
   ]
  },
  {
   "cell_type": "code",
   "execution_count": 53,
   "id": "surface-judgment",
   "metadata": {},
   "outputs": [
    {
     "data": {
      "text/plain": [
       "13"
      ]
     },
     "execution_count": 53,
     "metadata": {},
     "output_type": "execute_result"
    }
   ],
   "source": [
    "len(os.listdir(tumor_path))"
   ]
  },
  {
   "cell_type": "markdown",
   "id": "frequent-charleston",
   "metadata": {},
   "source": [
    "# 可视化1：叠加显示所有mask的可视化"
   ]
  },
  {
   "cell_type": "code",
   "execution_count": 55,
   "id": "pressing-romania",
   "metadata": {},
   "outputs": [
    {
     "name": "stdout",
     "output_type": "stream",
     "text": [
      "deleting... Done!\n"
     ]
    }
   ],
   "source": [
    "result1_path = result_path+'1'\n",
    "if os.path.exists(result1_path):\n",
    "    import shutil\n",
    "    shutil.rmtree(result1_path, ignore_errors=True)\n",
    "    print(\"deleting... Done!\")\n",
    "    \n",
    "os.mkdir(result1_path)"
   ]
  },
  {
   "cell_type": "code",
   "execution_count": 56,
   "id": "brown-ribbon",
   "metadata": {},
   "outputs": [],
   "source": [
    "for index,name in enumerate(img_names):\n",
    "    img = cv2.imread(os.path.join(img_path,name+'.jpg'),0)\n",
    "    img[0:33,0:245] = 0\n",
    "    h,w = img.shape[:2]\n",
    "    \n",
    "    flag = 0\n",
    "    #color_mask = np.ones((*img.shape,3))\n",
    "    color_mask = np.zeros([h, w, 3], np.uint8)\n",
    "    if os.path.exists(os.path.join(tumor_path,name+'.json')):\n",
    "        flag = 1\n",
    "        with open(os.path.join(tumor_path,name+'.json'), \"r\") as f:\n",
    "            annos = json.load(f)\n",
    "            shapes = annos['shapes']\n",
    "            for shape in shapes:\n",
    "                label = shape['label']\n",
    "                color = color_map[label]\n",
    "                \n",
    "                points = shape['points']\n",
    "                points_array = np.array(points, dtype=np.int32)\n",
    "                color_mask = cv2.fillPoly(color_mask, [points_array], color)\n",
    "                \n",
    "    if os.path.exists(os.path.join(pancreas_path,name+'.json')):\n",
    "        flag = 1\n",
    "        with open(os.path.join(pancreas_path,name+'.json'), \"r\") as f:\n",
    "            annos = json.load(f)\n",
    "            shapes = annos['shapes']\n",
    "            for shape in shapes:\n",
    "                label = shape['label']\n",
    "                color = color_map[label]\n",
    "                \n",
    "                points = shape['points']\n",
    "                points_array = np.array(points, dtype=np.int32)\n",
    "                color_mask = cv2.fillPoly(color_mask, [points_array], color)\n",
    "        \n",
    "    if flag == 0: continue\n",
    "    cv2.imwrite(os.path.join(result1_path,str(index)+'.png'),color_mask)"
   ]
  },
  {
   "cell_type": "markdown",
   "id": "statewide-purple",
   "metadata": {},
   "source": [
    "# 可视化2：仅可视化含有tumor的图片的所有mask"
   ]
  },
  {
   "cell_type": "code",
   "execution_count": 57,
   "id": "personal-dining",
   "metadata": {},
   "outputs": [
    {
     "name": "stdout",
     "output_type": "stream",
     "text": [
      "deleting... Done!\n",
      "img:AILIKEMU_AP_1.CT.0003.0022.2018.01.06.08.58.26.453125.106165872(index:6) has no pancreas\n"
     ]
    }
   ],
   "source": [
    "tumor_names = [name[:-5] for name in os.listdir(tumor_path)]\n",
    "result2_path = result_path+'2'\n",
    "\n",
    "if os.path.exists(result2_path):\n",
    "    import shutil\n",
    "    shutil.rmtree(result2_path, ignore_errors=True)\n",
    "    print(\"deleting... Done!\")\n",
    "    \n",
    "os.mkdir(result2_path)\n",
    "\n",
    "for index,name in enumerate(tumor_names):\n",
    "    img = cv2.imread(os.path.join(img_path,name+'.jpg'),0)\n",
    "    img[0:33,0:245] = 0\n",
    "    h,w = img.shape[:2]\n",
    "    \n",
    "    flag = 0\n",
    "    #color_mask = np.ones((*img.shape,3))\n",
    "    color_mask1 = np.zeros([h, w, 3], np.uint8)\n",
    "    color_mask2 = np.zeros([h, w, 3], np.uint8)\n",
    "    if os.path.exists(os.path.join(tumor_path,name+'.json')):\n",
    "        #flag = 1\n",
    "        if os.path.exists(os.path.join(pancreas_path,name+'.json')):\n",
    "            flag = 1\n",
    "            with open(os.path.join(pancreas_path,name+'.json'), \"r\") as f:\n",
    "                annos = json.load(f)\n",
    "                shapes = annos['shapes']\n",
    "                for shape in shapes:\n",
    "                    label = shape['label']\n",
    "                    color = color_map[label]\n",
    "\n",
    "                    points = shape['points']\n",
    "                    points_array = np.array(points, dtype=np.int32)\n",
    "                    color_mask1 = cv2.fillPoly(color_mask1, [points_array], color)\n",
    "        with open(os.path.join(tumor_path,name+'.json'), \"r\") as f:\n",
    "            annos = json.load(f)\n",
    "            shapes = annos['shapes']\n",
    "            for shape in shapes:\n",
    "                label = shape['label']\n",
    "                color = color_map[label]\n",
    "                \n",
    "                points = shape['points']\n",
    "                points_array = np.array(points, dtype=np.int32)\n",
    "                color_mask2 = cv2.fillPoly(color_mask2, [points_array], color)\n",
    "        \n",
    "        alpha = 0.6\n",
    "        if flag == 1:\n",
    "            color_mask = cv2.addWeighted(color_mask1,1-alpha,color_mask2,alpha,0) #https://blog.csdn.net/zh_jessica/article/details/77992578\n",
    "        else:\n",
    "            print('img:%s(index:%d) has no pancreas'%(name,index))\n",
    "            color_mask = color_mask2\n",
    "\n",
    "    #if flag == 0: continue\n",
    "    cv2.imwrite(os.path.join(result2_path,str(index)+'.png'),color_mask)"
   ]
  },
  {
   "cell_type": "markdown",
   "id": "macro-freeware",
   "metadata": {},
   "source": [
    "# 用labelme可视化单个json"
   ]
  },
  {
   "cell_type": "markdown",
   "id": "rough-missile",
   "metadata": {},
   "source": [
    "<b>这个只能可视化单个json，如果当时标注的时候按照不同类别来得到json时，就不是很方便，此时用上面1和2更方便。<br>\n",
    "不过一定要记得修改color_map"
   ]
  },
  {
   "cell_type": "markdown",
   "id": "younger-keyboard",
   "metadata": {},
   "source": [
    "https://blog.csdn.net/weixin_36670529/article/details/89441110  <br>\n",
    "1. pip install labelme\n",
    "2.  labelme_json_to_dataset  path/<文件名>.json"
   ]
  },
  {
   "cell_type": "markdown",
   "id": "unsigned-israeli",
   "metadata": {},
   "source": [
    "https://github.com/wkentaro/labelme#windows"
   ]
  },
  {
   "cell_type": "markdown",
   "id": "suited-somalia",
   "metadata": {},
   "source": [
    "# 使用matplotlib进行叠加可视化"
   ]
  },
  {
   "cell_type": "markdown",
   "id": "straight-leonard",
   "metadata": {},
   "source": [
    "<b>好处是可以通过alpha通道实现多label mask重叠<br>\n",
    "    比如你已经有这样一个数据集：图片文件夹+类别1mask图片文件夹+...+类别nmask图片文件夹\n",
    "    那么你可以通过读取图片之后，在各个类别mask图片文件夹中读取对应的mask，然后通过alpha通道叠加显示"
   ]
  },
  {
   "cell_type": "markdown",
   "id": "encouraging-consciousness",
   "metadata": {},
   "source": [
    "https://www.aiuai.cn/aifarm276.html"
   ]
  },
  {
   "cell_type": "markdown",
   "id": "exclusive-display",
   "metadata": {},
   "source": [
    "https://blog.csdn.net/weixin_43593330/article/details/107676785 "
   ]
  },
  {
   "cell_type": "markdown",
   "id": "fabulous-emission",
   "metadata": {},
   "source": [
    "# 阈值分割法"
   ]
  },
  {
   "cell_type": "code",
   "execution_count": 120,
   "id": "green-engine",
   "metadata": {},
   "outputs": [
    {
     "data": {
      "image/png": "[encoded data removed]",
      "text/plain": [
       "<Figure size 432x288 with 1 Axes>"
      ]
     },
     "metadata": {
      "needs_background": "light"
     },
     "output_type": "display_data"
    }
   ],
   "source": [
    "img = cv2.imread('../pancreas/backup2-seg-dataset/imgs/0.jpg')\n",
    "mask = cv2.imread('../pancreas/backup2-seg-dataset/masks/0_mask.jpg',0)\n",
    "\n",
    "import matplotlib.pyplot as plt\n",
    "\n",
    "plt.imshow(mask,cmap='gray')\n",
    "\n",
    "true_mask = mask.copy()"
   ]
  },
  {
   "cell_type": "code",
   "execution_count": 121,
   "id": "alternative-madonna",
   "metadata": {},
   "outputs": [
    {
     "data": {
      "text/plain": [
       "(512, 512)"
      ]
     },
     "execution_count": 121,
     "metadata": {},
     "output_type": "execute_result"
    }
   ],
   "source": [
    "true_mask.shape"
   ]
  },
  {
   "cell_type": "code",
   "execution_count": 118,
   "id": "mounted-prototype",
   "metadata": {},
   "outputs": [],
   "source": [
    "bgdModel = np.zeros((1,65),np.float64)\n",
    "fgdModel = np.zeros((1,65),np.float64)\n",
    "\n",
    "rect = (50,50,450,290)\n",
    "mask = mask//255\n",
    "\n",
    "# https://docs.opencv.org/3.4/d8/d83/tutorial_py_grabcut.html\n",
    "# https://www.jianshu.com/p/117f66320589\n",
    "# https://www.bogotobogo.com/python/OpenCV_Python/python_opencv3_Image_Segmentation_by_Foreground_Extraction_Grabcut_Algorithm_based_on_Graph_cuts.php\n",
    "# https://cloud.tencent.com/developer/article/1400019\n",
    "seg, bgdModel, fgdModel = cv2.grabCut(img,mask,None,bgdModel,fgdModel,50,cv2.GC_INIT_WITH_MASK)\n",
    "\n",
    "seg = np.where((seg==2)|(seg==0),0,255).astype('uint8')"
   ]
  },
  {
   "cell_type": "code",
   "execution_count": 123,
   "id": "apart-corps",
   "metadata": {
    "scrolled": false
   },
   "outputs": [
    {
     "data": {
      "text/plain": [
       "<matplotlib.colorbar.Colorbar at 0x2aaf27a0cb10>"
      ]
     },
     "execution_count": 123,
     "metadata": {},
     "output_type": "execute_result"
    },
    {
     "data": {
      "image/png": "[encoded data removed]",
      "text/plain": [
       "<Figure size 432x288 with 2 Axes>"
      ]
     },
     "metadata": {
      "needs_background": "light"
     },
     "output_type": "display_data"
    }
   ],
   "source": [
    "plt.imshow(seg,cmap='gray')\n",
    "plt.colorbar()"
   ]
  },
  {
   "cell_type": "code",
   "execution_count": 124,
   "id": "intimate-scanner",
   "metadata": {},
   "outputs": [
    {
     "data": {
      "text/plain": [
       "True"
      ]
     },
     "execution_count": 124,
     "metadata": {},
     "output_type": "execute_result"
    }
   ],
   "source": [
    "cv2.imwrite('test.png',seg)"
   ]
  },
  {
   "cell_type": "code",
   "execution_count": 127,
   "id": "mature-clearing",
   "metadata": {},
   "outputs": [
    {
     "name": "stdout",
     "output_type": "stream",
     "text": [
      "deleting... Done!\n"
     ]
    }
   ],
   "source": [
    "img_path = '/GPUFS/sysu_rxwang_1/defeng/pancreas/backup2-seg-dataset/imgs/'\n",
    "mask_path = '/GPUFS/sysu_rxwang_1/defeng/pancreas/backup2-seg-dataset/masks/'\n",
    "save_path = './traditionalSeg'\n",
    "\n",
    "if os.path.exists(save_path):\n",
    "    import shutil\n",
    "    shutil.rmtree(save_path, ignore_errors=True)\n",
    "    print(\"deleting... Done!\")\n",
    "    \n",
    "os.mkdir(save_path)\n",
    "\n",
    "for index,name in enumerate(os.listdir(img_path)):\n",
    "    name = name[:-4]\n",
    "    img = cv2.imread(os.path.join(img_path,name+'.jpg'))\n",
    "    mask = cv2.imread(os.path.join(mask_path,name+'_mask.jpg'),0)\n",
    "    mask = mask//255\n",
    "    \n",
    "    bgdModel = np.zeros((1,65),np.float64)\n",
    "    fgdModel = np.zeros((1,65),np.float64)\n",
    "    \n",
    "    seg, bgdModel, fgdModel = cv2.grabCut(img,mask,None,bgdModel,fgdModel,20,cv2.GC_INIT_WITH_MASK)\n",
    "    \n",
    "    seg = np.where((seg==2)|(seg==0),0,255).astype('uint8')\n",
    "    \n",
    "    cv2.imwrite(os.path.join(save_path,name+'.png'),seg)"
   ]
  }
 ],
 "metadata": {
  "kernelspec": {
   "display_name": "Python [conda env:torch] *",
   "language": "python",
   "name": "conda-env-torch-py"
  },
  "language_info": {
   "codemirror_mode": {
    "name": "ipython",
    "version": 3
   },
   "file_extension": ".py",
   "mimetype": "text/x-python",
   "name": "python",
   "nbconvert_exporter": "python",
   "pygments_lexer": "ipython3",
   "version": "3.7.9"
  },
  "toc": {
   "base_numbering": 1,
   "nav_menu": {},
   "number_sections": true,
   "sideBar": true,
   "skip_h1_title": false,
   "title_cell": "Table of Contents",
   "title_sidebar": "Contents",
   "toc_cell": false,
   "toc_position": {},
   "toc_section_display": true,
   "toc_window_display": false
  },
  "varInspector": {
   "cols": {
    "lenName": 16,
    "lenType": 16,
    "lenVar": 40
   },
   "kernels_config": {
    "python": {
     "delete_cmd_postfix": "",
     "delete_cmd_prefix": "del ",
     "library": "var_list.py",
     "varRefreshCmd": "print(var_dic_list())"
    },
    "r": {
     "delete_cmd_postfix": ") ",
     "delete_cmd_prefix": "rm(",
     "library": "var_list.r",
     "varRefreshCmd": "cat(var_dic_list()) "
    }
   },
   "types_to_exclude": [
    "module",
    "function",
    "builtin_function_or_method",
    "instance",
    "_Feature"
   ],
   "window_display": false
  }
 },
 "nbformat": 4,
 "nbformat_minor": 5
}
